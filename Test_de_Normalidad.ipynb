{
  "nbformat": 4,
  "nbformat_minor": 0,
  "metadata": {
    "colab": {
      "name": "Test de Normalidad.ipynb",
      "provenance": [],
      "include_colab_link": true
    },
    "kernelspec": {
      "name": "python3",
      "display_name": "Python 3"
    }
  },
  "cells": [
    {
      "cell_type": "markdown",
      "metadata": {
        "id": "view-in-github",
        "colab_type": "text"
      },
      "source": [
        "<a href=\"https://colab.research.google.com/github/luguzman/estadistica-inferencial/blob/master/Test_de_Normalidad.ipynb\" target=\"_parent\"><img src=\"https://colab.research.google.com/assets/colab-badge.svg\" alt=\"Open In Colab\"/></a>"
      ]
    },
    {
      "cell_type": "markdown",
      "metadata": {
        "id": "A7cisd4C_S1v"
      },
      "source": [
        "#Tests de Normalidad"
      ]
    },
    {
      "cell_type": "code",
      "metadata": {
        "id": "ozdsv4Q1_cvP"
      },
      "source": [
        "data = [0.873, 0.121, 2.817, -0.945, -0.55, -1.436, 0.36, -1.478, -1.869, -1.637]\n",
        "n = len(data)"
      ],
      "execution_count": null,
      "outputs": []
    },
    {
      "cell_type": "markdown",
      "metadata": {
        "id": "A7e8kh0t_4EQ"
      },
      "source": [
        "$$\n",
        "\\left.\n",
        "\\begin{array}{ll}\n",
        "H_0: & \\mathrm{la\\ muestra\\ proviene\\ de\\ una\\ normal}\\\\\n",
        "H_1: & \\mathrm{la\\ muestra\\ NO\\ proviene\\ de\\ una\\ normal}\n",
        "\\end{array}\n",
        "\\right\\}\n",
        "$$"
      ]
    },
    {
      "cell_type": "markdown",
      "metadata": {
        "id": "yb_zceAuAIIa"
      },
      "source": [
        "## Test de Shapiro-Wilk\n",
        "- Observaciones de cada muestra deben ser iid"
      ]
    },
    {
      "cell_type": "code",
      "metadata": {
        "id": "CA-hIk6zAQY_",
        "outputId": "0ee1ab74-455d-4b09-8990-3ab6a419d721",
        "colab": {
          "base_uri": "https://localhost:8080/",
          "height": 51
        }
      },
      "source": [
        "from scipy.stats import shapiro\n",
        "stat, pv = shapiro(data)\n",
        "print(\"Estadistico = %.3f, p-valor= %.3f\" % (stat, pv))\n",
        "if pv > 0.05: \n",
        "  print(\"Es probablemente una muestra procedente de una Gaussiana\")\n",
        "else:\n",
        "  print(\"Estos datos no parecen proceder de una Gaussiana\")"
      ],
      "execution_count": null,
      "outputs": [
        {
          "output_type": "stream",
          "text": [
            "Estadistico = 0.889, p-valor= 0.164\n",
            "Es probablemente una muestra procedente de una Gaussiana\n"
          ],
          "name": "stdout"
        }
      ]
    },
    {
      "cell_type": "markdown",
      "metadata": {
        "id": "IUDcRbOiA2v7"
      },
      "source": [
        "## Test d'Agostino $K^2$\n",
        "- Observaciones de cada muestra deben ser iid\n",
        "- $n\\geq 20$"
      ]
    },
    {
      "cell_type": "code",
      "metadata": {
        "id": "zcjkWDzCA83-",
        "outputId": "ce9b6dd4-8178-4ca5-85bc-6637c819056b",
        "colab": {
          "base_uri": "https://localhost:8080/",
          "height": 85
        }
      },
      "source": [
        "from scipy.stats import normaltest\n",
        "stat, pv = normaltest(data)\n",
        "print(\"Estadistico = %.3f, p-valor= %.3f\" % (stat, pv))\n",
        "if pv > 0.05: \n",
        "  print(\"Es probablemente una muestra procedente de una Gaussiana\")\n",
        "else:\n",
        "  print(\"Estos datos no parecen proceder de una Gaussiana\")"
      ],
      "execution_count": null,
      "outputs": [
        {
          "output_type": "stream",
          "text": [
            "Estadistico = 4.304, p-valor= 0.116\n",
            "Es probablemente una muestra procedente de una Gaussiana\n"
          ],
          "name": "stdout"
        },
        {
          "output_type": "stream",
          "text": [
            "/usr/local/lib/python3.6/dist-packages/scipy/stats/stats.py:1450: UserWarning: kurtosistest only valid for n>=20 ... continuing anyway, n=10\n",
            "  \"anyway, n=%i\" % int(n))\n"
          ],
          "name": "stderr"
        }
      ]
    },
    {
      "cell_type": "markdown",
      "metadata": {
        "id": "VVGmHRj0Btw7"
      },
      "source": [
        "#Test de Anderson-Darling \n",
        "- Observaciones de cada muestra deben ser iid"
      ]
    },
    {
      "cell_type": "code",
      "metadata": {
        "id": "J7OQLeGxB1Bb",
        "outputId": "d265d1c0-2831-49ad-be52-8bcdadeea607",
        "colab": {
          "base_uri": "https://localhost:8080/",
          "height": 34
        }
      },
      "source": [
        "from scipy.stats import anderson\n",
        "result = anderson(data)\n",
        "print(result)"
      ],
      "execution_count": null,
      "outputs": [
        {
          "output_type": "stream",
          "text": [
            "AndersonResult(statistic=0.43790621884128633, critical_values=array([0.501, 0.57 , 0.684, 0.798, 0.95 ]), significance_level=array([15. , 10. ,  5. ,  2.5,  1. ]))\n"
          ],
          "name": "stdout"
        }
      ]
    },
    {
      "cell_type": "code",
      "metadata": {
        "id": "jEfGqe8LCDqy",
        "outputId": "00d6a1a1-7514-45f3-bdef-52df1962c785",
        "colab": {
          "base_uri": "https://localhost:8080/",
          "height": 34
        }
      },
      "source": [
        "print(\"Estadístico = %.3f\" % (result.statistic))"
      ],
      "execution_count": null,
      "outputs": [
        {
          "output_type": "stream",
          "text": [
            "Estadístico = 0.438\n"
          ],
          "name": "stdout"
        }
      ]
    },
    {
      "cell_type": "code",
      "metadata": {
        "id": "aN9EG8YECRCN",
        "outputId": "ef0437ff-e43c-4854-f1f4-d6a0c7c21ddc",
        "colab": {
          "base_uri": "https://localhost:8080/",
          "height": 102
        }
      },
      "source": [
        "for i in range(len(result.critical_values)):\n",
        "  sl, cv = result.significance_level[i], result.critical_values[i]\n",
        "  if result.statistic < cv:\n",
        "    print(\"Probablemente Gaussiana a un nivel de significación del %.2f%%\"% (sl))\n",
        "  else:\n",
        "    print(\"Probablemente no Gaussiana a un nivel de significación del %.2f%%\" % (sl))"
      ],
      "execution_count": null,
      "outputs": [
        {
          "output_type": "stream",
          "text": [
            "Probablemente Gaussiana a un nivel de significación del 15.00%\n",
            "Probablemente Gaussiana a un nivel de significación del 10.00%\n",
            "Probablemente Gaussiana a un nivel de significación del 5.00%\n",
            "Probablemente Gaussiana a un nivel de significación del 2.50%\n",
            "Probablemente Gaussiana a un nivel de significación del 1.00%\n"
          ],
          "name": "stdout"
        }
      ]
    }
  ]
}