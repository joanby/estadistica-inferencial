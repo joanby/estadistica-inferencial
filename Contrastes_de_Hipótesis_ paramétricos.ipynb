{
  "nbformat": 4,
  "nbformat_minor": 0,
  "metadata": {
    "colab": {
      "name": "Contrastes de Hipótesis.ipynb",
      "provenance": [],
      "include_colab_link": true
    },
    "kernelspec": {
      "name": "python3",
      "display_name": "Python 3"
    }
  },
  "cells": [
    {
      "cell_type": "markdown",
      "metadata": {
        "id": "view-in-github",
        "colab_type": "text"
      },
      "source": [
        "<a href=\"https://colab.research.google.com/github/luguzman/estadistica-inferencial/blob/master/Contrastes_de_Hip%C3%B3tesis_%20param%C3%A9tricos.ipynb\" target=\"_parent\"><img src=\"https://colab.research.google.com/assets/colab-badge.svg\" alt=\"Open In Colab\"/></a>"
      ]
    },
    {
      "cell_type": "code",
      "metadata": {
        "id": "hvv8WKdU_70N"
      },
      "source": [
        "import numpy as np\n",
        "import pandas as pd\n",
        "import scipy.stats as stats\n",
        "import matplotlib.pyplot as plt\n",
        "import math"
      ],
      "execution_count": null,
      "outputs": []
    },
    {
      "cell_type": "markdown",
      "metadata": {
        "id": "VajJD0pRAC0u"
      },
      "source": [
        "#Test de una muestra"
      ]
    },
    {
      "cell_type": "code",
      "metadata": {
        "id": "iCcufWmeAGfi"
      },
      "source": [
        "np.random.seed(2020)\n",
        "\n",
        "populations_ages1 = stats.poisson.rvs(loc=18, mu = 35, size = 1500000)\n",
        "populations_ages2 = stats.poisson.rvs(loc=18, mu = 10, size = 1000000)\n",
        "population_ages = np.concatenate((populations_ages1, populations_ages2))"
      ],
      "execution_count": null,
      "outputs": []
    },
    {
      "cell_type": "code",
      "metadata": {
        "id": "rQn_0yx0BKBW"
      },
      "source": [
        "mallorca_ages1 = stats.poisson.rvs(loc=18, mu=30, size = 30)\n",
        "mallorca_ages2 = stats.poisson.rvs(loc=18, mu=10, size = 20)\n",
        "mallorca_ages = np.concatenate((mallorca_ages1, mallorca_ages2))"
      ],
      "execution_count": null,
      "outputs": []
    },
    {
      "cell_type": "code",
      "metadata": {
        "id": "Ym88WlmcBhvv",
        "outputId": "c8024c66-0ffd-4bed-b56b-21f06786c8a5",
        "colab": {
          "base_uri": "https://localhost:8080/",
          "height": 51
        }
      },
      "source": [
        "print(population_ages.mean())\n",
        "print(mallorca_ages.mean())"
      ],
      "execution_count": null,
      "outputs": [
        {
          "output_type": "stream",
          "text": [
            "42.9991224\n",
            "39.46\n"
          ],
          "name": "stdout"
        }
      ]
    },
    {
      "cell_type": "markdown",
      "metadata": {
        "id": "UOPZPZnMByMk"
      },
      "source": [
        "$$\n",
        "\\left.\n",
        "\\begin{array}{ll}\n",
        "H_0: & \\mu  = 43\\\\\n",
        "H_1: & \\mu \\neq 43\n",
        "\\end{array}\n",
        "\\right\\}\n",
        "$$\n",
        "donde $\\mu$ representa la media de edad de la isla de Mallorca."
      ]
    },
    {
      "cell_type": "code",
      "metadata": {
        "id": "YI-Zuce9CMLw",
        "outputId": "bfdd1781-afd3-4a77-f70b-e4334301dd4c",
        "colab": {
          "base_uri": "https://localhost:8080/",
          "height": 34
        }
      },
      "source": [
        "stats.ttest_1samp(a = mallorca_ages, popmean=population_ages.mean())"
      ],
      "execution_count": null,
      "outputs": [
        {
          "output_type": "execute_result",
          "data": {
            "text/plain": [
              "Ttest_1sampResult(statistic=-2.1714050303885575, pvalue=0.034771114438177056)"
            ]
          },
          "metadata": {
            "tags": []
          },
          "execution_count": 5
        }
      ]
    },
    {
      "cell_type": "code",
      "metadata": {
        "id": "_9T2O40XCk8Y",
        "outputId": "1afccde5-a36b-4e91-a59a-41fe4c4e9f3a",
        "colab": {
          "base_uri": "https://localhost:8080/",
          "height": 34
        }
      },
      "source": [
        "alpha = 0.05\n",
        "(stats.t.ppf(q = alpha/2, df = len(mallorca_ages)-1), stats.t.ppf(q=1-alpha/2, df = len(mallorca_ages)-1))"
      ],
      "execution_count": null,
      "outputs": [
        {
          "output_type": "execute_result",
          "data": {
            "text/plain": [
              "(-2.0095752344892093, 2.009575234489209)"
            ]
          },
          "metadata": {
            "tags": []
          },
          "execution_count": 6
        }
      ]
    },
    {
      "cell_type": "code",
      "metadata": {
        "id": "x-iJ6BV3DQ_9",
        "outputId": "32f186c9-587d-434f-bd14-86a1ee46a316",
        "colab": {
          "base_uri": "https://localhost:8080/",
          "height": 34
        }
      },
      "source": [
        "stats.t.cdf(x = -2.1714050303885575, df = len(mallorca_ages)-1)"
      ],
      "execution_count": null,
      "outputs": [
        {
          "output_type": "execute_result",
          "data": {
            "text/plain": [
              "0.017385557219088528"
            ]
          },
          "metadata": {
            "tags": []
          },
          "execution_count": 7
        }
      ]
    },
    {
      "cell_type": "code",
      "metadata": {
        "id": "O7vXpHVXDpBI",
        "outputId": "46270238-f23c-424a-8217-f901465e4e01",
        "colab": {
          "base_uri": "https://localhost:8080/",
          "height": 34
        }
      },
      "source": [
        "sigma = mallorca_ages.std()/math.sqrt(len(mallorca_ages))\n",
        "print(sigma)"
      ],
      "execution_count": null,
      "outputs": [
        {
          "output_type": "stream",
          "text": [
            "1.6134955841278276\n"
          ],
          "name": "stdout"
        }
      ]
    },
    {
      "cell_type": "code",
      "metadata": {
        "id": "0qcoCfUAD0XN",
        "outputId": "bb53c82c-0b3d-4b35-8dd0-e06cb465789b",
        "colab": {
          "base_uri": "https://localhost:8080/",
          "height": 34
        }
      },
      "source": [
        "stats.t.interval(1-alpha, df = len(mallorca_ages)-1, loc = mallorca_ages.mean(), scale = sigma)"
      ],
      "execution_count": null,
      "outputs": [
        {
          "output_type": "execute_result",
          "data": {
            "text/plain": [
              "(36.21755923317902, 42.702440766820985)"
            ]
          },
          "metadata": {
            "tags": []
          },
          "execution_count": 9
        }
      ]
    },
    {
      "cell_type": "markdown",
      "metadata": {
        "id": "dgECXwJoEVeo"
      },
      "source": [
        "# Test de dos poblaciones independientes\n"
      ]
    },
    {
      "cell_type": "code",
      "metadata": {
        "id": "-rjK4K2BEZo2",
        "outputId": "f8cf5a5c-a4e4-4b94-87ac-f31342b8de1d",
        "colab": {
          "base_uri": "https://localhost:8080/",
          "height": 34
        }
      },
      "source": [
        "np.random.seed(42)\n",
        "menorca_ages1 = stats.poisson.rvs(loc = 18, mu = 33, size = 30)\n",
        "menorca_ages2 = stats.poisson.rvs(loc = 18, mu = 13, size = 20)\n",
        "menorca_ages = np.concatenate((menorca_ages1, menorca_ages2))\n",
        "print(menorca_ages.mean())"
      ],
      "execution_count": null,
      "outputs": [
        {
          "output_type": "stream",
          "text": [
            "42.44\n"
          ],
          "name": "stdout"
        }
      ]
    },
    {
      "cell_type": "markdown",
      "metadata": {
        "id": "9ZBgwv7mE5wN"
      },
      "source": [
        "$$\n",
        "\\left.\n",
        "\\begin{array}{ll}\n",
        "H_0: & \\mu_1  = \\mu_2\\\\\n",
        "H_1: & \\mu_1 \\neq \\mu_2\n",
        "\\end{array}\n",
        "\\right\\}\n",
        "$$\n",
        "donde $\\mu_1$ representa la media de edad de la isla de Mallorca y $\\mu_2$ representa la edad media de la isla de Menorca."
      ]
    },
    {
      "cell_type": "code",
      "metadata": {
        "id": "lfXfae9HFCMF",
        "outputId": "9dda1973-ba14-4f8d-d1b4-a1ff8e28515b",
        "colab": {
          "base_uri": "https://localhost:8080/",
          "height": 34
        }
      },
      "source": [
        "stats.ttest_ind(a = mallorca_ages, b = menorca_ages, equal_var=False)"
      ],
      "execution_count": null,
      "outputs": [
        {
          "output_type": "execute_result",
          "data": {
            "text/plain": [
              "Ttest_indResult(statistic=-1.3604819759494602, pvalue=0.17683431726007182)"
            ]
          },
          "metadata": {
            "tags": []
          },
          "execution_count": 11
        }
      ]
    },
    {
      "cell_type": "markdown",
      "metadata": {
        "id": "8OYRVbhnF4Ck"
      },
      "source": [
        "# Test de dos poblaciones emparejadas"
      ]
    },
    {
      "cell_type": "code",
      "metadata": {
        "id": "jdeqlbWBF3iH",
        "outputId": "777e6296-077e-407f-acab-43b7fd2e94b8",
        "colab": {
          "base_uri": "https://localhost:8080/",
          "height": 297
        }
      },
      "source": [
        "np.random.seed(100)\n",
        "\n",
        "before = stats.norm.rvs(scale = 30, loc = 250, size = 100)\n",
        "after = before + stats.norm.rvs(scale = 5, loc = -1.25, size = 100)\n",
        "\n",
        "issue_df = pd.DataFrame({\n",
        "    \"data_before\":before,\n",
        "    \"data_after\":after,\n",
        "    \"data_change\":after-before\n",
        "})\n",
        "\n",
        "issue_df.describe()"
      ],
      "execution_count": null,
      "outputs": [
        {
          "output_type": "execute_result",
          "data": {
            "text/html": [
              "<div>\n",
              "<style scoped>\n",
              "    .dataframe tbody tr th:only-of-type {\n",
              "        vertical-align: middle;\n",
              "    }\n",
              "\n",
              "    .dataframe tbody tr th {\n",
              "        vertical-align: top;\n",
              "    }\n",
              "\n",
              "    .dataframe thead th {\n",
              "        text-align: right;\n",
              "    }\n",
              "</style>\n",
              "<table border=\"1\" class=\"dataframe\">\n",
              "  <thead>\n",
              "    <tr style=\"text-align: right;\">\n",
              "      <th></th>\n",
              "      <th>data_before</th>\n",
              "      <th>data_after</th>\n",
              "      <th>data_change</th>\n",
              "    </tr>\n",
              "  </thead>\n",
              "  <tbody>\n",
              "    <tr>\n",
              "      <th>count</th>\n",
              "      <td>100.000000</td>\n",
              "      <td>100.000000</td>\n",
              "      <td>100.000000</td>\n",
              "    </tr>\n",
              "    <tr>\n",
              "      <th>mean</th>\n",
              "      <td>246.875024</td>\n",
              "      <td>245.273794</td>\n",
              "      <td>-1.601231</td>\n",
              "    </tr>\n",
              "    <tr>\n",
              "      <th>std</th>\n",
              "      <td>29.239138</td>\n",
              "      <td>28.860282</td>\n",
              "      <td>5.347108</td>\n",
              "    </tr>\n",
              "    <tr>\n",
              "      <th>min</th>\n",
              "      <td>175.385454</td>\n",
              "      <td>182.016288</td>\n",
              "      <td>-16.116577</td>\n",
              "    </tr>\n",
              "    <tr>\n",
              "      <th>25%</th>\n",
              "      <td>224.578491</td>\n",
              "      <td>224.637324</td>\n",
              "      <td>-4.794257</td>\n",
              "    </tr>\n",
              "    <tr>\n",
              "      <th>50%</th>\n",
              "      <td>248.904910</td>\n",
              "      <td>246.617406</td>\n",
              "      <td>-1.980166</td>\n",
              "    </tr>\n",
              "    <tr>\n",
              "      <th>75%</th>\n",
              "      <td>270.287894</td>\n",
              "      <td>266.937200</td>\n",
              "      <td>2.271459</td>\n",
              "    </tr>\n",
              "    <tr>\n",
              "      <th>max</th>\n",
              "      <td>311.038227</td>\n",
              "      <td>310.899838</td>\n",
              "      <td>10.243270</td>\n",
              "    </tr>\n",
              "  </tbody>\n",
              "</table>\n",
              "</div>"
            ],
            "text/plain": [
              "       data_before  data_after  data_change\n",
              "count   100.000000  100.000000   100.000000\n",
              "mean    246.875024  245.273794    -1.601231\n",
              "std      29.239138   28.860282     5.347108\n",
              "min     175.385454  182.016288   -16.116577\n",
              "25%     224.578491  224.637324    -4.794257\n",
              "50%     248.904910  246.617406    -1.980166\n",
              "75%     270.287894  266.937200     2.271459\n",
              "max     311.038227  310.899838    10.243270"
            ]
          },
          "metadata": {
            "tags": []
          },
          "execution_count": 13
        }
      ]
    },
    {
      "cell_type": "markdown",
      "metadata": {
        "id": "mDnKDcUrHUs9"
      },
      "source": [
        "$$\n",
        "\\left.\n",
        "\\begin{array}{ll}\n",
        "H_0: & \\mu_1  = \\mu_2\\\\\n",
        "H_1: & \\mu_1 \\neq \\mu_2\n",
        "\\end{array}\n",
        "\\right\\}\n",
        "$$\n",
        "donde $\\mu_1$ representa la media de la condición estudiada antes del tratamiento y $\\mu_2$ representa la meddia de la condición estudiada después del tratamiento"
      ]
    },
    {
      "cell_type": "code",
      "metadata": {
        "id": "K-Gw7tLGHSoF",
        "outputId": "f27409f3-3b55-4644-fb5c-f7f74d0c03fc",
        "colab": {
          "base_uri": "https://localhost:8080/",
          "height": 34
        }
      },
      "source": [
        "stats.ttest_rel(a=before, b=after)"
      ],
      "execution_count": null,
      "outputs": [
        {
          "output_type": "execute_result",
          "data": {
            "text/plain": [
              "Ttest_relResult(statistic=2.9945735001280593, pvalue=0.003471639955998896)"
            ]
          },
          "metadata": {
            "tags": []
          },
          "execution_count": 14
        }
      ]
    },
    {
      "cell_type": "markdown",
      "metadata": {
        "id": "2NDRoLpgISfE"
      },
      "source": [
        "# Errores de tipo I y de tipo II\n",
        "- Error tipo 1: $\\alpha$, probabilidad de rechazar $H_0$ cuando esta es verdadera\n",
        "- Error tipo 2: probabilidad de aceptar $H_0$ cuando esta es falsa"
      ]
    },
    {
      "cell_type": "code",
      "metadata": {
        "id": "yi98iMJ5I56j",
        "outputId": "eb8fe094-fb30-4c10-b14b-0c0ccd06110e",
        "colab": {
          "base_uri": "https://localhost:8080/",
          "height": 609
        }
      },
      "source": [
        "plt.figure(figsize=(16,10))\n",
        "\n",
        "\n",
        "plt.fill_between(x=np.arange(-4, -2, 0.01), y1 = stats.norm.pdf(np.arange(-4,-2,0.01)), facecolor=\"red\", alpha = 0.3)\n",
        "plt.fill_between(x=np.arange(-2, 2, 0.01), y1 = stats.norm.pdf(np.arange(-2,2,0.01)), facecolor=\"white\", alpha = 0.3)\n",
        "plt.fill_between(x=np.arange(2, 4, 0.01), y1 = stats.norm.pdf(np.arange(2,4,0.01)), facecolor=\"red\", alpha = 0.6)\n",
        "\n",
        "\n",
        "plt.fill_between(x=np.arange(-4, -2, 0.01), y1 = stats.norm.pdf(np.arange(-4,-2,0.01), loc = 3, scale=2), facecolor=\"white\", alpha = 0.3)\n",
        "plt.fill_between(x=np.arange(-2, 2, 0.01), y1 = stats.norm.pdf(np.arange(-2,2,0.01), loc = 3, scale=2), facecolor=\"blue\", alpha = 0.3)\n",
        "plt.fill_between(x=np.arange(2, 4, 0.01), y1 = stats.norm.pdf(np.arange(2,4,0.01), loc = 3, scale=2), facecolor=\"white\", alpha = 0.3)\n",
        "\n",
        "plt.plot(np.arange(-4,4,0.01), stats.norm.pdf(np.arange(-4,4,0.01)))\n",
        "plt.plot(np.arange(-4,4,0.01), stats.norm.pdf(np.arange(-4,4,0.01), loc=3, scale=2))\n",
        "\n",
        "plt.text(x=-0.8, y=0.15, s=\"Hipotesis nula\")\n",
        "plt.text(x=2.5, y=0.15, s=\"Hipotesis alternativa\")\n",
        "plt.text(x=2.1, y=0.01, s=\"Error tipo I\")\n",
        "plt.text(x=-3.2, y=0.01, s=\"Error tipo I\")\n",
        "plt.text(x=0, y=0.02, s=\"Error tipo II\")\n",
        "\n",
        "plt.plot()"
      ],
      "execution_count": null,
      "outputs": [
        {
          "output_type": "execute_result",
          "data": {
            "text/plain": [
              "[]"
            ]
          },
          "metadata": {
            "tags": []
          },
          "execution_count": 18
        },
        {
          "output_type": "display_data",
          "data": {
            "image/png": "[encoded data removed]",
            "text/plain": [
              "<Figure size 1152x720 with 1 Axes>"
            ]
          },
          "metadata": {
            "tags": []
          }
        }
      ]
    },
    {
      "cell_type": "code",
      "metadata": {
        "id": "-vULreCpLNtD",
        "outputId": "d5299c77-f3a5-4d1e-9420-10d0729cea3b",
        "colab": {
          "base_uri": "https://localhost:8080/",
          "height": 34
        }
      },
      "source": [
        "alpha = 0.05\n",
        "\n",
        "lower_quantile = stats.norm.ppf(alpha/2)\n",
        "upper_quantile = stats.norm.ppf(1-alpha/2)\n",
        "\n",
        "low = stats.norm.cdf(lower_quantile, loc = 3, scale = 2)\n",
        "upper = stats.norm.cdf(upper_quantile, loc = 3, scale = 2)\n",
        "\n",
        "upper-low"
      ],
      "execution_count": null,
      "outputs": [
        {
          "output_type": "execute_result",
          "data": {
            "text/plain": [
              "0.294956061112323"
            ]
          },
          "metadata": {
            "tags": []
          },
          "execution_count": 22
        }
      ]
    }
  ]
}