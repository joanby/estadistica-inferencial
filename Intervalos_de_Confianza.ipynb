{
  "nbformat": 4,
  "nbformat_minor": 0,
  "metadata": {
    "colab": {
      "name": "Intervalos de Confianza.ipynb",
      "provenance": [],
      "include_colab_link": true
    },
    "kernelspec": {
      "name": "python3",
      "display_name": "Python 3"
    }
  },
  "cells": [
    {
      "cell_type": "markdown",
      "metadata": {
        "id": "view-in-github",
        "colab_type": "text"
      },
      "source": [
        "<a href=\"https://colab.research.google.com/github/luguzman/estadistica-inferencial/blob/master/Intervalos_de_Confianza.ipynb\" target=\"_parent\"><img src=\"https://colab.research.google.com/assets/colab-badge.svg\" alt=\"Open In Colab\"/></a>"
      ]
    },
    {
      "cell_type": "markdown",
      "metadata": {
        "id": "-nzEnXavJBmB"
      },
      "source": [
        "**Estimación puntual**\n",
        "\n",
        "\n",
        "\n"
      ]
    },
    {
      "cell_type": "code",
      "metadata": {
        "id": "HHv8wwNTJCBW"
      },
      "source": [
        "import numpy as np\n",
        "import pandas as pd\n",
        "import scipy.stats as stats\n",
        "import matplotlib.pyplot as plt\n",
        "import random\n",
        "import math"
      ],
      "execution_count": null,
      "outputs": []
    },
    {
      "cell_type": "code",
      "metadata": {
        "id": "SLRrHrJTJx0N",
        "outputId": "f86e8965-16b3-493b-c541-b8743df47a1f",
        "colab": {
          "base_uri": "https://localhost:8080/",
          "height": 68
        }
      },
      "source": [
        "np.random.seed(2020)\n",
        "population_ages_1 = stats.poisson.rvs(loc = 18, mu = 35, size = 1500000)\n",
        "population_ages_2 = stats.poisson.rvs(loc = 18, mu = 10, size = 1000000)\n",
        "population_ages = np.concatenate((population_ages_1, population_ages_2))\n",
        "\n",
        "print(population_ages_1.mean())\n",
        "print(population_ages_2.mean())\n",
        "print(population_ages.mean())"
      ],
      "execution_count": null,
      "outputs": [
        {
          "output_type": "stream",
          "text": [
            "52.998824666666664\n",
            "27.999569\n",
            "42.9991224\n"
          ],
          "name": "stdout"
        }
      ]
    },
    {
      "cell_type": "code",
      "metadata": {
        "id": "TnXJN7unKs6t",
        "outputId": "095fc5a7-1329-4c6e-d169-3822754590d8",
        "colab": {
          "base_uri": "https://localhost:8080/",
          "height": 641
        }
      },
      "source": [
        "pd.DataFrame(population_ages).hist(bins = 60, range = (17.5, 77.5), figsize = (10,10))"
      ],
      "execution_count": null,
      "outputs": [
        {
          "output_type": "execute_result",
          "data": {
            "text/plain": [
              "array([[<matplotlib.axes._subplots.AxesSubplot object at 0x7f734bd2a588>]],\n",
              "      dtype=object)"
            ]
          },
          "metadata": {
            "tags": []
          },
          "execution_count": 4
        },
        {
          "output_type": "display_data",
          "data": {
            "image/png": "iVBORw0KGgoAAAANSUhEUgAAAmsAAAJOCAYAAADoLUBhAAAABHNCSVQICAgIfAhkiAAAAAlwSFlz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\n",
            "text/plain": [
              "<Figure size 720x720 with 1 Axes>"
            ]
          },
          "metadata": {
            "tags": []
          }
        }
      ]
    },
    {
      "cell_type": "code",
      "metadata": {
        "id": "qh1C3KzNLUON",
        "outputId": "89dcc976-7643-488e-b29c-cf451bdfd72c",
        "colab": {
          "base_uri": "https://localhost:8080/",
          "height": 34
        }
      },
      "source": [
        "stats.skew(population_ages)"
      ],
      "execution_count": null,
      "outputs": [
        {
          "output_type": "execute_result",
          "data": {
            "text/plain": [
              "-0.11907136129560125"
            ]
          },
          "metadata": {
            "tags": []
          },
          "execution_count": 5
        }
      ]
    },
    {
      "cell_type": "code",
      "metadata": {
        "id": "IlcHDgyBLkGJ",
        "outputId": "17f86887-dd36-4873-cbed-2da864da6770",
        "colab": {
          "base_uri": "https://localhost:8080/",
          "height": 34
        }
      },
      "source": [
        "stats.kurtosis(population_ages)"
      ],
      "execution_count": null,
      "outputs": [
        {
          "output_type": "execute_result",
          "data": {
            "text/plain": [
              "-1.4593749125303193"
            ]
          },
          "metadata": {
            "tags": []
          },
          "execution_count": 6
        }
      ]
    },
    {
      "cell_type": "code",
      "metadata": {
        "id": "raYauBDiLySP",
        "outputId": "9a3d3e3d-ec84-4f60-94ec-c575a58fee56",
        "colab": {
          "base_uri": "https://localhost:8080/",
          "height": 34
        }
      },
      "source": [
        "np.random.seed(42)\n",
        "sample_ages = np.random.choice(population_ages, 500)\n",
        "print(sample_ages.mean())"
      ],
      "execution_count": null,
      "outputs": [
        {
          "output_type": "stream",
          "text": [
            "42.356\n"
          ],
          "name": "stdout"
        }
      ]
    },
    {
      "cell_type": "code",
      "metadata": {
        "id": "iBL5JbfJMFpE",
        "outputId": "7094db63-ed75-4765-e946-69971be891bb",
        "colab": {
          "base_uri": "https://localhost:8080/",
          "height": 34
        }
      },
      "source": [
        "population_ages.mean() - sample_ages.mean()"
      ],
      "execution_count": null,
      "outputs": [
        {
          "output_type": "execute_result",
          "data": {
            "text/plain": [
              "0.6431223999999958"
            ]
          },
          "metadata": {
            "tags": []
          },
          "execution_count": 8
        }
      ]
    },
    {
      "cell_type": "code",
      "metadata": {
        "id": "B5vQhKnTMYAs"
      },
      "source": [
        "population_races = ([\"blanca\"]*1000000) + ([\"negra\"]*500000) + ([\"hispana\"]*500000) + ([\"asiatica\"]*250000) + ([\"otros\"]*250000)"
      ],
      "execution_count": null,
      "outputs": []
    },
    {
      "cell_type": "code",
      "metadata": {
        "id": "qB-k9hzgM31A",
        "outputId": "8a06739d-7c77-42ae-cd92-7160e2873d4d",
        "colab": {
          "base_uri": "https://localhost:8080/",
          "height": 187
        }
      },
      "source": [
        "for race in set(population_races):\n",
        "  print(\"Proporción de \"+race)\n",
        "  print(population_races.count(race) / 2500000)"
      ],
      "execution_count": null,
      "outputs": [
        {
          "output_type": "stream",
          "text": [
            "Proporción de blanca\n",
            "0.4\n",
            "Proporción de hispana\n",
            "0.2\n",
            "Proporción de otros\n",
            "0.1\n",
            "Proporción de asiatica\n",
            "0.1\n",
            "Proporción de negra\n",
            "0.2\n"
          ],
          "name": "stdout"
        }
      ]
    },
    {
      "cell_type": "code",
      "metadata": {
        "id": "i7HIhCZPNXSI"
      },
      "source": [
        "random.seed(31)\n",
        "race_sample = random.sample(population_races, 1000)"
      ],
      "execution_count": null,
      "outputs": []
    },
    {
      "cell_type": "code",
      "metadata": {
        "id": "P47SX_KNNhJO",
        "outputId": "14fc93b6-6526-43e3-939b-65b4135689ad",
        "colab": {
          "base_uri": "https://localhost:8080/",
          "height": 187
        }
      },
      "source": [
        "for race in set(race_sample):\n",
        "  print(\"Proporción de \"+race)\n",
        "  print(race_sample.count(race) / 1000)"
      ],
      "execution_count": null,
      "outputs": [
        {
          "output_type": "stream",
          "text": [
            "Proporción de blanca\n",
            "0.379\n",
            "Proporción de hispana\n",
            "0.201\n",
            "Proporción de otros\n",
            "0.102\n",
            "Proporción de asiatica\n",
            "0.101\n",
            "Proporción de negra\n",
            "0.217\n"
          ],
          "name": "stdout"
        }
      ]
    },
    {
      "cell_type": "code",
      "metadata": {
        "id": "VPkcGvDsN0zz",
        "outputId": "2b173f72-14d5-4696-803a-2a6ea2750f95",
        "colab": {
          "base_uri": "https://localhost:8080/",
          "height": 641
        }
      },
      "source": [
        "pd.DataFrame(population_ages).hist(bins = 60, range = (17.5, 77.5), figsize = (10,10))"
      ],
      "execution_count": null,
      "outputs": [
        {
          "output_type": "execute_result",
          "data": {
            "text/plain": [
              "array([[<matplotlib.axes._subplots.AxesSubplot object at 0x7f7349e56b70>]],\n",
              "      dtype=object)"
            ]
          },
          "metadata": {
            "tags": []
          },
          "execution_count": 17
        },
        {
          "output_type": "display_data",
          "data": {
            "image/png": "iVBORw0KGgoAAAANSUhEUgAAAmsAAAJOCAYAAADoLUBhAAAABHNCSVQICAgIfAhkiAAAAAlwSFlz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\n",
            "text/plain": [
              "<Figure size 720x720 with 1 Axes>"
            ]
          },
          "metadata": {
            "tags": []
          }
        }
      ]
    },
    {
      "cell_type": "code",
      "metadata": {
        "id": "8z3MDtHAN2ZG",
        "outputId": "65d76530-91d2-4863-e888-e8d728d50174",
        "colab": {
          "base_uri": "https://localhost:8080/",
          "height": 641
        }
      },
      "source": [
        "pd.DataFrame(sample_ages).hist(bins = 60, range = (17.5, 77.5), figsize = (10,10))"
      ],
      "execution_count": null,
      "outputs": [
        {
          "output_type": "execute_result",
          "data": {
            "text/plain": [
              "array([[<matplotlib.axes._subplots.AxesSubplot object at 0x7f7349e43978>]],\n",
              "      dtype=object)"
            ]
          },
          "metadata": {
            "tags": []
          },
          "execution_count": 18
        },
        {
          "output_type": "display_data",
          "data": {
            "image/png": "iVBORw0KGgoAAAANSUhEUgAAAlIAAAJOCAYAAAB8y+mTAAAABHNCSVQICAgIfAhkiAAAAAlwSFlz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\nWZx4Yvk2AAAAAElFTkSuQmCC\n",
            "text/plain": [
              "<Figure size 720x720 with 1 Axes>"
            ]
          },
          "metadata": {
            "tags": []
          }
        }
      ]
    },
    {
      "cell_type": "code",
      "metadata": {
        "id": "u8U6RJrQOJt0",
        "outputId": "673a588a-6e7f-41d1-bd78-993de0323036",
        "colab": {
          "base_uri": "https://localhost:8080/",
          "height": 554
        }
      },
      "source": [
        "np.random.sample(1988)\n",
        "\n",
        "point_estimates = []\n",
        "\n",
        "for x in range(200):\n",
        "  sample = np.random.choice(population_ages, size = 500)\n",
        "  point_estimates.append(sample.mean())\n",
        "\n",
        "pd.DataFrame(point_estimates).plot(kind = \"density\", figsize = (9,9), xlim = (40, 46) )"
      ],
      "execution_count": null,
      "outputs": [
        {
          "output_type": "execute_result",
          "data": {
            "text/plain": [
              "<matplotlib.axes._subplots.AxesSubplot at 0x7f7349c8d518>"
            ]
          },
          "metadata": {
            "tags": []
          },
          "execution_count": 19
        },
        {
          "output_type": "display_data",
          "data": {
            "image/png": "iVBORw0KGgoAAAANSUhEUgAAAi8AAAIICAYAAACmfQ7KAAAABHNCSVQICAgIfAhkiAAAAAlwSFlz\nAAALEgAACxIB0t1+/AAAADh0RVh0U29mdHdhcmUAbWF0cGxvdGxpYiB2ZXJzaW9uMy4xLjEsIGh0\ndHA6Ly9tYXRwbG90bGliLm9yZy8QZhcZAAAgAElEQVR4nOzdeXjcZ2H2+/uZGe37Llurd1vebSkr\ngQBxSAKEsifAedlpC+HtAU5b4JzytrRvS+n6tqUUulCgQICyBUgIWSCEbFi2YzveV1n7rtE6kmbm\nOX9IMorxomVmfr/fzPdzXb6iGY1Gd64rVm49q7HWCgAAwCt8TgcAAABYDMoLAADwFMoLAADwFMoL\nAADwFMoLAADwFMoLAADwlIDTARartLTU1tfXOx0DAADEwL59+/qstWWL+RrPlZf6+no1Nzc7HQMA\nAMSAMaZlsV/DtBEAAPAUygsAAPAUygsAAPAUz615AQAALzY9Pa22tjaFQiGno1xRZmamqqurlZaW\ntuz3orwAAOBxbW1tysvLU319vYwxTsf5DdZa9ff3q62tTatWrVr2+zFtBACAx4VCIZWUlLiyuEiS\nMUYlJSUxGxmivAAAkATcWlzmxDIf5QUAAMTET37yE23YsEFr167VZz7zmbh9H8oLAABYtkgkog99\n6EN66KGHdPToUX3jG9/Q0aNH4/K9KC8AAGDZfvWrX2nt2rVavXq10tPTdc899+gHP/hBXL4Xu40A\nAEgif/LDIzraMRzT92xYma//9drNV31Ne3u7ampqLj6urq7Wc889F9Mccxh5AQAAnsLICwAASeRa\nIyTxUlVVpdbW1ouP29raVFVVFZfvxcgLAABYtqamJp06dUrnzp3T1NSU7r//ft19991x+V6MvAAA\ngGULBAL6p3/6J73qVa9SJBLRe97zHm3eHJ9RIMoLAACIibvuukt33XVX3L8P00YAAMBTKC8AAMBT\nKC8AAMBTWPMC4LJ6hkP6zv52PXW6T+f6xjQ6GVZmmk/leZlaV56rHbWFumF1idaV57r+QjggFVhr\nXf130Vobs/eivAB4kdB0RH/z0xP68tMtmopEtbEyT9evKlZeZkCh6ag6ghN66kyfvnugXZJUmpuu\nG9eU6iVrS3TTmlLVFGc7/G8ApJ7MzEz19/erpKTElQXGWqv+/n5lZmbG5P0oLwAu6hia0Lu/tFcn\nukf0lsZqffDWtaovzbnsa1sHxvXM2X49c6ZfT53u0w8PdkiS6kqyddOaUu2uK9KGijytLc9VVro/\nkf8aQMqprq5WW1ubent7nY5yRZmZmaquro7Je5lYDuMkQmNjo21ubnY6BpB0WgfGdc8Xn9XwxLT+\n8W07deuG8gV/rbVWp3tG9cvTfXrqdJ+ePTug0cnwxc8XZaepOCddJTkZys0MKDcjoJyMgPLmf5wR\nUHl+hnbVFSk/My0e/4oAXMgYs89a27iYr2HkBYDGJsN635ebNRKa1tfff4O2Vhcs6uuNMVpXkad1\nFXl6982rFI5Edb5/XKe6R3S6Z1Q9I5PqH5vUwNiUekZCOtsb1uhkRKOT0wpNR1/0Xj4jNdYX697r\navTabSsV8LOvAMCLUV4A6JPfO6xTPSP68nuuW3RxuZyA36e15blaW557zdeGI1GNTUY0OhVWS9+Y\nnj3brx8e6tRHvnlQ//yzM/rzN2xVU33xsjMBSB78SgOkuEeOdusHz3fo9165XresK0v49w/4fSrI\nTlNVYZZuWluqj96+QY9/7GX6/Nt3KRSO6J4vPqt/eeJMTHcqAPC2uJYXY8wdxpgTxpjTxpiPX+E1\nbzHGHDXGHDHGfD2eeQC82NhkWJ/6wQvaUJGn3711jdNxLjLG6M6tK/Tg/7xFd2yp1GceOq6/eOg4\nBQaApDhOGxlj/JI+J2mPpDZJe40xD1hrj857zTpJn5B0s7V20Biz8BWCAJbtS0+dU2cwpH+8d6fS\nA+4biM3LTNM/3rNTJTnp+uIvzqowO00fvHWt07EAOCyea16uk3TaWntWkowx90t6naSj817zfkmf\ns9YOSpK1tieOeQDMExyf1hd+cVa3bSpXo4vXlPh8Rn9y92YNjU/rsz85obVlubp9c6XTsQA4KJ6/\nalVJap33uG32ufnWS1pvjHnKGPOsMeaOy72RMeYDxphmY0yzm/ewA17ypafPaSQU1kf3bHA6yjUZ\nY/TZN23T1qoC/eF3DqlnOOR0JAAOcnqcOCBpnaRbJd0r6V+NMYWXvsha+0VrbaO1trGsLPELCoFk\nMxmO6L+ebdErN5arYWW+03EWJDPNr7976w6NT0X0ie8eZv0LkMLiWV7aJdXMe1w9+9x8bZIesNZO\nW2vPSTqpmTIDII5+dLBTfaNTevfNq5yOsihry3P1+6/aoMeO9+ixY8wyA6kqnuVlr6R1xphVxph0\nSfdIeuCS13xfM6MuMsaUamYa6WwcMwGQ9OVnzmttea5uXlvidJRFe+dN9VpTlqM/+/FRTYYjTscB\n4IC4lRdrbVjSfZIelnRM0restUeMMZ82xtw9+7KHJfUbY45K+pmk37fW9scrEwDpRNeIDrUF9bbr\nal15gdu1pPl9+qPXNOh8/7ju/1Xrtb8AQNKJ6wm71toHJT14yXOfmvexlfTR2T8AEuC7B9oU8Bnd\nvWOl01GW7GXry9RUX6TP//yM7rmuRhkBLn4EUonTC3YBJFAkavWDAx162foyleZmOB1nyYwx+r1X\nrlfXcEjfam5zOg6ABKO8ACnkuXP96hoO6fW7Lj21wHtuXluinbWF+vcnzyoaZecRkEooL0AKefiF\nLmWm+fTKjRVOR1k2Y4zec/Mqne8f189OsPMISCWUFyBFWGv106Pdeum6MmWlJ8cakTu2VKoyP1P/\n+fR5p6MASCDKC5AiXmgfVmcwlFRH66f5fXrHDbV68lSfzveNOR0HQIJQXoAU8dOjXfL7jF65Mbnu\nP33j7moZI313Pwt3gVRBeQFSxM9P9Gp3bZGKctKdjhJTKwqy9JK1pfrO/nYW7gIpgvICpIDBsSm9\n0BHUS9aVOh0lLt60u1rtQxN69ixnXAKpgPICpICnz/TLWunmtclZXl61uVJ5GQF9ex9TR0AqoLwA\nKeCXp3uVlxHQ9uoCp6PERWaaX6/etkI/PdKl0DT3HQHJjvICpIBfnu7TDWtKFPAn71/5u7au0NhU\nRL842et0FABxlrw/yQBIklr6x9Q6MKFbknS9y5wb15SoICtNP3mhy+koAOKM8gIkuV+e7pOUvOtd\n5qT5fdrTUKFHjnVrKhx1Og6AOKK8AEmu+fygSnMztLo0x+kocXfX1kqNhMJ66kyf01EAxBHlBUhy\n+1oG1VhXJGOM01Hi7ua1pcrLCOgnh5k6ApIZ5QVIYj0jIV0YGNfuuiKnoyRERsCvl24o0+Mnejiw\nDkhilBcgie1vGZIk7UqR8iJJr9hQrt6RSR3tHHY6CoA4obwASWz/hUGlB3zaUpXvdJSEedmGMhkj\n/ex4j9NRAMQJ5QVIYs3nB7StqkAZAb/TURKmNDdD26oL9fgJyguQrCgvQJIKTUf0Qvtwyqx3me/l\nG8r0fOuQBsamnI4CIA4oL0CSOtIR1FQkqp21qVdeXrGxXNZKT5xk9AVIRpQXIEkdagtKknbWFjqc\nJPG2rCxQcU66njzFeS9AMqK8AEnqhfZhleZmqDwvw+koCefzGd24pkRPn+6XtWyZBpIN5QVIUi+0\nB7W1Kj8lDqe7nJvXlKprOKSzfWNORwEQY5QXIAlNTEV0qmdEW6oKnI7imJvXlkiSnj7N1BGQbCgv\nQBI61jWsqFVKl5fa4mxVFWbpqdP9TkcBEGOUFyAJHWmfWaybyuXFGKOb1pTombP9inBVAJBUKC9A\nEjrcHlRRdppWFmQ6HcVRN68tVXBiWkc7uCoASCaUFyAJvdA+rC1VBSm7WHfOTWtm1r08dYZ1L0Ay\nobwASWYyHNHJ7tRerDunPD9T68pz9fQZ1r0AyYTyAiSZU92jCketGlakzmWMV3P96mLtOz+gcCTq\ndBQAMUJ5AZLMye4RSdLGyjyHk7hDU32xxqYiOt414nQUADFCeQGSzImuEaX7faovzXE6iis01RdL\nkvaeH3A4CYBYobwASeZE94hWl+Uozc9fb0laWZilqsIsyguQRPjpBiSZk10jTBldoqm+SHvPD3LP\nEZAkKC9AEglOTKsjGNKGShbrzte0qli9I5O6MDDudBQAMUB5AZLIqdnFuhsqcx1O4i5z615+dY6p\nIyAZUF6AJDK3o4aRlxdbW5arwuw0NZ8fdDoKgBigvABJ5GT3iPIyAil/LcClfD6jxroiFu0CSYLy\nAiSR410jWl+Zl/LXAlxOU32xzvaNqW900ukoAJaJ8gIkCWutTnaPaH0F610up3F23Uszoy+A51Fe\ngCQxMDalofFprS1nm/TlbK0qUHrAx7oXIAlQXoAkcbZvTJK0poyTdS8nPeDT1qoCPd865HQUAMtE\neQGSxJmeUUnSmjKmja5kZ02hDrcHNRXmkkbAyygvQJI40zuqjIBPKwuznI7iWjtrizQZjup417DT\nUQAsA+UFSBJnese0qjRHfh87ja5kZ22hJOnABaaOAC+jvABJ4mzvKFNG17CiIFMV+Rk6cIFFu4CX\nUV6AJDAZjujCwDiLda/BGKOdNUU6wKJdwNMoL0ASaOkfV9RKa8oZebmWnbWFaukfVz+H1QGeRXkB\nkgA7jRZuR83Muhe2TAPeRXkBksDcGS+rSpk2upat1QXy+wzlBfAwyguQBM70jGpFQaZyMgJOR3G9\n7PSANlbmseMI8DDKC5AEzvaNMeqyCDtrC/V865AiUet0FABLQHkBkkBL/5jqKS8LtrOmSKOTYZ3p\nHXU6CoAloLwAHhccn9bg+LTqS7KdjuIZvz6sjvNeAC+ivAAe1zIws1i3roSRl4VaVZqjgqw07W9h\n3QvgRZQXwOPO949LkuoYeVkwY4y21xTqYBvlBfAiygvgcRf6Z0ZeaospL4uxvbpAp3pGNTEVcToK\ngEWivAAed75/XBX5GcpOZ5v0YmyrLlQkanWkI+h0FACLRHkBPK6lf4z1LkuwvbpAknSwjfICeA3l\nBfC48/3jqmPKaNHK8zNVmZ+pQ6x7ATyH8gJ42PhUWL0jk5zxskTbqgt0iJEXwHMoL4CHtbDTaFm2\n1xTqXN+YghPTTkcBsAiUF8DDWmZ3GtWz5mVJts2ueznM6AvgKXEtL8aYO4wxJ4wxp40xH7/M599l\njOk1xjw/++d98cwDJJu5M15qGXlZkm1VMyftct4L4C1x21tpjPFL+pykPZLaJO01xjxgrT16yUu/\naa29L145gGTW0j+m4px05WemOR3Fkwqy01Rfks2iXcBj4jnycp2k09bas9baKUn3S3pdHL8fkHJa\n+sdZ77JM26oLWbQLeEw8y0uVpNZ5j9tmn7vUG40xh4wx/22MqbncGxljPmCMaTbGNPf29sYjK+BJ\nLf3jrHdZpm3VBeoMhtQzEnI6CoAFcnrB7g8l1Vtrt0l6RNKXL/cia+0XrbWN1trGsrKyhAYE3Goy\nHFFHcIJrAZZpe83MupdDrYy+AF4Rz/LSLmn+SEr17HMXWWv7rbWTsw//TdLuOOYBkkrHUEjWSjWU\nl2XZvDJfPiPWvQAeEs/yslfSOmPMKmNMuqR7JD0w/wXGmBXzHt4t6Vgc8wBJpXVgZqdRTVGWw0m8\nLTs9oPUVeVwTAHhI3HYbWWvDxpj7JD0syS/pP6y1R4wxn5bUbK19QNL/NMbcLSksaUDSu+KVB0g2\nbYMTkqRqRl6WbVt1gR452i1rrYwxTscBcA1xvYbWWvugpAcvee5T8z7+hKRPxDMDkKxaB8cV8BlV\n5mc6HcXztlUX6lvNbWobnGAaDvAApxfsAliitsEJrSzMkt/HSMFyba/msDrASygvgEe1Doyrppj1\nLrGwoTJP6X4f570AHkF5ATyqbXBC1YVMccRCesCnTSvzdbCVkRfACygvgAeFpiPqG51k5CWGtlcX\n6IX2oCJR63QUANdAeQE8qG1wZpt0dREjL7GyrbpQY1MRne0ddToKgGugvAAe1Dq7TZqRl9jZXl0g\nSZz3AngA5QXwoLYBRl5ibXVZrnLS/Zy0C3gA5QXwoLbBCaUHfCrLzXA6StLw+4y2VBUw8gJ4AOUF\n8KDWwXFVF2bJxxkvMbW9plDHOoY1FY46HQXAVVBeAA9qG5zgWoA42FZdoKlIVCe6RpyOAuAqKC+A\nB7UOjKuaCxljjpN2AW+gvAAeMzoZ1uD4tGpYrBtz1UVZKs5J57A6wOUoL4DHtM/dJs3IS8wZY7S9\nuoBrAgCXo7wAHvPrA+ooL/GwrbpQJ3tGNDoZdjoKgCugvAAe0zE0M/JSRXmJix01hbJWeqGd0RfA\nrSgvgMe0D4WU5jcqzeGMl3jYNnvSLofVAe5FeQE8pmNoQisKOOMlXkpyM1RdlKWDrYy8AG5FeQE8\npjM4oZWFmU7HSGrbawr1PDuOANeivAAe0zEU0soC1rvE047qQrUPTahvdNLpKAAug/ICeEgkatU1\nHNLKQspLPLHuBXA3ygvgIT0jIUWilvISZ1uqCuQzYt0L4FKUF8BD5rZJr2DNS1zlZAS0rjyPawIA\nl6K8AB7SPhSSJFUx8hJ322sKdLB1SNZap6MAuATlBfCQiyMvBYy8xNv2mkINjk+rbfY6BgDuQXkB\nPKRzaEJ5mQHlZaY5HSXpzd0wzZZpwH0oL4CHtA+FmDJKkA2VeUoP+NhxBLgQ5QXwkI6hCXYaJUia\n36ctK/PZcQS4EOUF8JDO4ATrXRJoW3WhDrcHFY5EnY4CYB7KC+AR41NhDY5PM/KSQDtqCjUxHdHp\n3lGnowCYh/ICeEQH26QTbu6k3YMs2gVchfICeERnkG3SiVZfkqP8zICeZ90L4CqUF8Aj5s54Ydoo\ncXw+o+01hew4AlyG8gJ4RPtQSMZIlYy8JNS26gId7xpRaDridBQAsygvgEd0DE2oPC9DaX7+2ibS\n9upCRaJWRzqGnY4CYBY/BQGP6AxyxosTdtTMnLTLol3APSgvgEd0DIUoLw4oz89UZX4mN0wDLkJ5\nATzAWjtzui7rXRyxvaZAh9rYcQS4BeUF8ICBsSlNhqOMvDhke02hzvWNaWh8yukoAER5ATxh7oA6\nyoszdtYUSZIOsO4FcAXKC+AB7XNnvBRQXpywrbpAPiMdaBl0OgoAUV4AT5g7XXdlIWtenJCTEdDG\nynxGXgCXoLwAHtAZDCk94FNxTrrTUVLWztpCPX9hSNGodToKkPIoL4AHdAVDqszPlDHG6Sgpa1dt\nkUYmwzrVww3TgNMoL4AHdA3PlBc4Z1fd7KLdC6x7AZxGeQE8oCsYUgVnvDiqviRbRdlp2k95ARxH\neQFczlqrruGQVlBeHGWM0c7aIu2/wKJdwGmUF8DlhsanNRWOqoJpI8ftrCnU6Z5RBSemnY4CpDTK\nC+ByXcMzB9Sx5sV5c+tenmfLNOAoygvgcl3B2fJSkOFwEmyvKZQx0n4OqwMcRXkBXO7iyAun6zou\nNyOgDRV5HFYHOIzyArhcVzAkY6TyPEZe3GBnbZEOXBjksDrAQZQXwOW6h0MqyclQmp+/rm6ws7ZQ\nI6GwzvRyWB3gFH4aAi7XGQyx3sVFdtXOHVbH1BHgFMoL4HLdwyFV5rPexS1Wl+aoIIvD6gAnUV4A\nl+saZuTFTXw+ox01hZQXwEGUF8DFQtMRDY1Pc8aLy+yqLdKpnlENhzisDnAC5QVwsV+f8cK0kZvs\nqiuUtdJBtkwDjqC8AC7G6bru9OvD6igvgBMoL4CLdQ9zuq4b5WemaX15nvax7gVwBOUFcLHO2Wkj\nLmV0n931RTrQMqgIh9UBCUd5AVysKxhSbkZAeZlpTkfBJZrqizQyGdaJrhGnowAph/ICuFj3cEgV\n+UwZuVFjXbEkaV/LgMNJgNRDeQFcbOaMF6aM3Ki6KEsV+Rnae551L0CixbW8GGPuMMacMMacNsZ8\n/Cqve6MxxhpjGuOZB/CarmCI9S4uZYxRY12x9rVQXoBEi1t5Mcb4JX1O0p2SGiTda4xpuMzr8iT9\nnqTn4pUF8KJI1KpnZFIrGHlxrcb6IrUPTahjaMLpKEBKiefIy3WSTltrz1prpyTdL+l1l3ndn0r6\nS0mhOGYBPKd/dFKRqOWMFxebW/fSzOgLkFDxLC9VklrnPW6bfe4iY8wuSTXW2h9f7Y2MMR8wxjQb\nY5p7e3tjnxRwobkD6pg2cq9NK/KUne5X83kW7QKJ5NiCXWOMT9LfSvrYtV5rrf2itbbRWttYVlYW\n/3CAC3RevBqA8uJWAb9PO2sL1cyiXSCh4lle2iXVzHtcPfvcnDxJWyT93BhzXtINkh5g0S4w49en\n61Je3KyxrljHu4Y1wiWNQMLEs7zslbTOGLPKGJMu6R5JD8x90lobtNaWWmvrrbX1kp6VdLe1tjmO\nmQDP6AqGFPAZleZwzoubNdYXKWqlAxe45whIlLiVF2ttWNJ9kh6WdEzSt6y1R4wxnzbG3B2v7wsk\ni65gSOV5GfL5jNNRcBU7a4vkM2LdC5BAgXi+ubX2QUkPXvLcp67w2lvjmQXwGg6o84bcjIA2rchn\nxxGQQJywC7gU5cU7muqLdeDCkKYjUaejACmB8gK4kLWW03U9ZHddkSamIzrWOex0FCAlUF4AFxqZ\nDGt8KsIBdR7RWF8kSdxzBCQI5QVwoW7OePGUFQVZqirM4oZpIEEoL4ALzZ2uy8iLdzTVF6n5/KCs\ntU5HAZIe5QVwoS5GXjxnd32xekYm1TrAJY1AvFFeABeaKy8s2PWOptl1L81MHQFxR3kBXKhrOKSi\n7DRlpvmdjoIFWl+ep7zMAIt2gQSgvAAu1D3MNmmv8fmMdtcVsWgXSADKC+BCHFDnTY11RTrZPaqh\n8SmnowBJjfICuFBXMKQVlBfPaawvliTt46oAIK4oL4DLTIWj6hudYtrIg7ZXFyrNb1j3AsQZ5QVw\nmZ4Rznjxqqx0v7ZUFXDDNBBnlBfAZbpnD6irYNrIk5rqi3WoLajQdMTpKEDSorwALtM5e8YLa168\nqbGuSFORqF5oDzodBUhalBfAZS6ersu0kSftruOSRiDeKC+Ay3QPh5QR8KkgK83pKFiCktwMrSnL\nYd0LEEeUF8BlOoMzZ7wYY5yOgiVqqi9Wc8ugolEuaQTigfICuEz3cIgpI49rrC9WcGJap3tHnY4C\nJCXKC+AynK7rfXOXNO5l6giIC8oL4CLWWnUHJxl58bja4myV5WWomUW7QFxQXgAXGRib0lQkyum6\nHmeMUVN9ESMvQJxQXgAX6RrmjJdksbuuWG2DE+oMTjgdBUg6lBfARThdN3nMrXth6giIPcoL4CJd\nwUlJHFCXDBpW5Cs73c95L0AcUF4AF+kKTshnpLK8DKejYJkCfp921hZy0i4QB5QXwEW6hkMqzc1Q\nmp+/msmgsa5Yx7uGNRyadjoKkFT4CQm4SNfwJGe8JJGm+mJFrXTgwpDTUYCkQnkBXKQ7GGKbdBLZ\nUVsov8+w7gWIMcoL4CKdwQm2SSeR3IyAGlbkc94LEGOUF8AlJqYiGg6FGXlJMo31RXq+dUjTkajT\nUYCkQXkBXGLugDq2SSeXpvpihaajOtIx7HQUIGlQXgCXmDuJlQW7yaWxbu6wOqaOgFihvAAuMXe6\nLuUluZTnZ6quJJt1L0AMUV4Al+B03eTVWFes5vODstY6HQVICpQXwCW6h0PKywgoJyPgdBTEWFN9\nkfrHpnSub8zpKEBSoLwALtEZnOBCxiTVWF8siUsagVihvAAu0TU8yZRRklpTlqOi7DTWvQAxQnkB\nXKI7GGKxbpIyxmh3XbGaWxh5AWKB8gK4QDgSVc9IiNN1k1hTfZHO9Y2pd2TS6SiA51FeABfoG51S\n1IrTdZPY3LqXfS1MHQHLRXkBXGDugDpGXpLXlqp8ZQR82suiXWDZKC+AC8wdUMfIS/LKCPi1vaaQ\nk3aBGKC8AC7QFZwpL4y8JLem+iK90DGs8amw01EAT6O8AC7QORxSut+n4px0p6MgjhrrixWJWj1/\nYcjpKICnUV4AF+gOhlRRkCFjjNNREEe7aotkjFj3AizTgsqLMea7xphXG2MoO0AcdAZDHFCXAgqy\n0rShIk/N7DgClmWhZeSfJb1N0iljzGeMMRvimAlIOd3DIRbrpoim+mLtbxlUOBJ1OgrgWQsqL9ba\nR621b5e0S9J5SY8aY542xrzbGJMWz4BAsrPWqjPIAXWporG+SGNTER3vGnE6CuBZC54GMsaUSHqX\npPdJOiDp/2imzDwSl2RAighOTGsyHGXkJUU0XbykkakjYKkWuuble5KelJQt6bXW2ruttd+01n5Y\nUm48AwLJrvPiNuksh5MgEVYWZqmqMEt7uecIWLLAAl/3r9baB+c/YYzJsNZOWmsb45ALSBldswfU\nVRZkOJwEidJYX6Rnz/bLWssOM2AJFjpt9GeXee6ZWAYBUlV3cK68MPKSKhrri9U9PKm2wQmnowCe\ndNWRF2NMpaQqSVnGmJ2S5n5FyNfMFBKAZeoMhmSMVJ7HyEuqaKovkiTtPT+gmmJ+lAKLda1po1dp\nZpFutaS/nff8iKRPxikTkFK6h0Mqzc1Qmp9jlFLF+vI85WUGtPf8oN6wq9rpOIDnXLW8WGu/LOnL\nxpg3Wmu/k6BMQErhgLrU4/MZ7a4rYscRsETXmjZ6h7X2vyTVG2M+eunnrbV/e5kvA7AI3cMhpg5S\nUFN9sX5+4oQGx6ZUxJ1WwKJca5w6Z/afuZLyLvMHwDIx8pKaGutm1r3sY8s0sGjXmjb6wuw//yQx\ncYDUEpqOKDgxrUpO100522sKleY32tsyoNsaKpyOA3jKQg+p+6wxJt8Yk2aMecwY02uMeUe8wwHJ\nrmtumzQjLyknM82vrVUFauaGaWDRFrq94XZr7bCk12jmbqO1kn4/XqGAVPHr03UpL6moqb5Yh9qG\nFJqOOB0F8JSFlpe56aVXS/q2tTYYpzxASumePV23gvKSkhrrizUdsTrUxo9UYDEWWl5+ZIw5Lmm3\npMeMMWWSQvGLBaSGTqaNUtruul8fVgdg4RZUXqy1H5d0k6RGa+20pDFJr4tnMCAVdA+HlJcZUE7G\nQq8ZQzIpzknX2vJcyguwSCwqdZkAACAASURBVIs50nOjpLcaY/6HpDdJuv1aX2CMucMYc8IYc9oY\n8/HLfP53jDGHjTHPG2N+aYxpWEQewPM6gxOMuqS4pvoi7WsZVDRqnY4CeMZCdxt9VdJfS3qJpKbZ\nP1e9TdoY45f0OUl3SmqQdO9lysnXrbVbrbU7JH1WL76CAEh6XcOTbJNOcY11xRoJhXWyZ8TpKIBn\nLHSsulFSg7V2Mb8aXCfptLX2rCQZY+7XzFTT0bkXzO5gmpMjiV89kFK6ghNaX17mdAw4qKm+WJK0\n9/ygNlbmO5wG8IaFThu9IKlyke9dJal13uO22edexBjzIWPMGc2MvPzPy72RMeYDxphmY0xzb2/v\nImMA7hSORNU7Msk26RRXU5yl8rwM7jkCFmGh5aVU0lFjzMPGmAfm/sQigLX2c9baNZL+UNL/d4XX\nfNFa22itbSwr47dUJIe+0SlFLdukU50xRk31xRxWByzCQqeN/ngJ790uqWbe4+rZ567kfkmfX8L3\nATypMzghiQPqIDXWF+nHhzvVPjShqsIsp+MArrfQrdJPaOZk3bTZj/dK2n+NL9sraZ0xZpUxJl3S\nPZJeNFpjjFk37+GrJZ1aYG7A8y4eUMduo5Q3t+6FqSNgYRa62+j9kv5b0hdmn6qS9P2rfY21Nizp\nPkkPSzom6VvW2iPGmE8bY+6efdl9xpgjxpjnJX1U0juX8O8AeNKvrwbgN+1Ut7EyT7kZAaaOgAVa\n6LTRhzSze+g5SbLWnjLGlF/ri6y1D0p68JLnPjXv499beFQguXQNh5Qe8KkoO83pKHBYwO/TztpC\nDqsDFmihC3YnrbVTcw+MMQGxrRlYlq5gSJX5mTLGOB0FLtBUX6wT3SMKTkw7HQVwvYWWlyeMMZ+U\nlGWM2SPp25J+GL9YQPKbKy+ANLNo11pp/wWmjoBrWWh5+bikXkmHJf22ZqaCLrutGcDCdA2H2CaN\ni3bUFCrgMyzaBRZgQWterLVRY8z3JX3fWsspccAyWWvVGQzpjs2UF8zITg9oc1WB9rJoF7imq468\nmBl/bIzpk3RC0gljTK8x5lNX+zoAV9c/NqWpcFQrOdMD8zTVFelg65AmwxGnowCudq1po49IullS\nk7W22FpbLOl6STcbYz4S93RAkuoY4oA6/KbG+mJNhqN6oT3odBTA1a5VXv4vSfdaa8/NPTF70eI7\nJP2PeAYDklnH0MwZL4y8YL7G+iJJYuoIuIZrlZc0a23fpU/OrnvhcApgieauBqC8YL7S3AytLs1h\n0S5wDdcqL1NL/ByAq+gMhpTBAXW4jMb6IjW3DCoa5Sgt4EquVV62G2OGL/NnRNLWRAQEklH70IRW\nFmZxQB1+Q2N9sYbGp3Wmd9TpKIBrXXWrtLXWn6ggQCrpHJpgsS4ua+6Sxr3nB7WuIs/hNIA7LfSQ\nOgAx1BkMsd4Fl1Vfkq3S3AzWvQBXQXkBEiwciap7OKSVjLzgMowxaqov0t4WygtwJZQXIMG6RyYV\ntdIKRl5wBY31xWodmFBXMOR0FMCVKC9AgnVyQB2uoWn2vJdmRl+Ay6K8AAnWMfvbdBUjL7iChhX5\nyk73q5nD6oDLorwACXbxagDKC64g4PdpZ22h9rJoF7gsyguQYJ1DE8rLDCg3Y0GXuiNFNdYV61jn\nsEZC005HAVyH8gIkWEcwxJQRrqmpvlhRKx24MOR0FMB1KC9AgnVwQB0WYEdtofw+w9QRcBmUFyDB\nOoMh1rvgmnIzAtq8Ml/PnaO8AJeivAAJFJqOaGBsigPqsCA3rC7R861DCk1HnI4CuArlBUigztlt\n0lwNgIW4flWxpsJR1r0Al6C8AAl0cZt0AeUF19ZYXyyfkZ492+90FMBVKC9AAs2Vl5WFTBvh2gqy\n0rR5ZYGeO0d5AeajvAAJNDdtVMmaFyzQ9auKtf8C616A+SgvQAJ1DE2oNDdDGQG/01HgETesLtFU\nOKrnW1n3AsyhvAAJ1BEMMWWERWlaVSxjpOfOsmUamEN5ARKokwPqsEgFWWlqWJHPol1gHsoLkCDW\nWnUMTbBNGot2w+oS7b8wqMkw614AifICJMxwKKyxqYhWsk0ai3TD6hJNhqM62Bp0OgrgCpQXIEHa\nBsclSdVFlBcsznX1M+temDoCZlBegARpH5w546W6KNvhJPCaguw0bapk3Qswh/ICJEjbbHmpYuQF\nS3DD6hLta2HdCyBRXoCEaRucUHa6X0XZaU5HgQddv7qYdS/ALMoLkCBtg+OqLsqSMcbpKPCgG1aV\nyGekp073OR0FcBzlBUiQtsEJ1rtgyQqy07S1qkBPn6G8AJQXIEHahybYaYRluXltqQ5cGNLoZNjp\nKICjKC9AAgyHphWcmFYVB9RhGV6ytlThqNWvuGUaKY7yAiQA26QRC7vqipQR8OmXpygvSG2UFyAB\n2i6WF0ZesHSZaX411RezaBcpj/ICJACn6yJWbl5bqhPdI+oZCTkdBXAM5QVIgLbBCWWm+VSck+50\nFHjcS9aWSpKeOcPUEVIX5QVIgPbZbdKc8YLlaliZr8LsNP3yFFNHSF2UFyAB2obGmTJCTPh9Rjet\nKdFTp/tkrXU6DuAIyguQADMH1FFeEBs3rSlVRzCkc31jTkcBHEF5AeJsJDStofFptkkjZubWvbDr\nCKmK8gLEWfvQ7G3SHFCHGKkryVZNcZaeONnrdBTAEZQXIM7aOeMFMWaM0a3ry/X0mX5NhiNOxwES\njvICxFkbp+siDm7dUKbxqYj2nht0OgqQcJQXIM7aBseVEfCpNJczXhA7N64pUbrfpydO9jgdBUg4\nygsQZ3M7jTjjBbGUnR7Q9auL9fMTrHtB6qG8AHHWOjiuKqaMEAcvW1+mUz2jFxeFA6mC8gLE2YX+\ncdUVU14Qe7duKJMk/fwEU0dILZQXII6Gxqc0HAqrroTygthbU5arqsIspo6QcigvQBy19M/cJl3L\nyAviwBijWzeU6enTfZoKR52OAyQM5QWIo5aB2fLCyAvi5NYN5Rqbiqi5ZcDpKEDCUF6AOLrQP3P3\nDCMviJcb15QozW/0BFNHSCGUFyCOWvrHVZaXoez0gNNRkKRyMwK6flWJHjvOol2kDsoLEEcXBthp\nhPi7bVO5TveMcss0UgblBYijCwPjrHdB3N3WUCFJevRot8NJgMSgvABxEpqOqGs4pLriHKejIMlV\nF2Vr04p8PXKM8oLUQHkB4qRtcFzWijNekBB7NpWr+fyABsemnI4CxF1cy4sx5g5jzAljzGljzMcv\n8/mPGmOOGmMOGWMeM8bUxTMPkEhzZ7zUsOYFCXBbQ4WiVnqchbtIAXErL8YYv6TPSbpTUoOke40x\nDZe87ICkRmvtNkn/Lemz8coDJNpceWHkBYmwZWWBKvIz9ChTR0gB8Rx5uU7SaWvtWWvtlKT7Jb1u\n/gustT+z1o7PPnxWUnUc8wAJdWFgXDnpfpXkpDsdBSnA5zO6bVOFnjjZq9B0xOk4QFzFs7xUSWqd\n97ht9rkrea+kh+KYB0iomZ1GOTLGOB0FKeK2hgqNT0X07Nl+p6MAceWKBbvGmHdIapT0V1f4/AeM\nMc3GmObeXk6RhDe09I9xxgsS6sbVJcpO9+sRtkwjycWzvLRLqpn3uHr2uRcxxtwm6f+VdLe1dvJy\nb2St/aK1ttFa21hWVhaXsEAsRaNWrYMTrHdBQmWm+fXSdWV69Fi3rLVOxwHiJp7lZa+kdcaYVcaY\ndEn3SHpg/guMMTslfUEzxYUl8kgancMhTYWjHFCHhLutoULdw5M63B50OgoQN3ErL9basKT7JD0s\n6Zikb1lrjxhjPm2MuXv2ZX8lKVfSt40xzxtjHrjC2wGecrZ3VJK0ujTX4SRINa/cWC6/z+gnL3Q5\nHQWIm7jeFmetfVDSg5c896l5H98Wz+8POGXujpk1ZZyui8QqyknXjatL9JMXuvT7r9rAgnEkJVcs\n2AWSzdneMeWk+1WWl+F0FKSgO7ZU6mzfmE52jzodBYgLygsQB2f7xrS6LJffeuGI2zdXyBjpwcOd\nTkcB4oLyAsTB2d5RrSplygjOKM/LVFNdMetekLQoL0CMhaYjah+aoLzAUXdurdSJ7pGLi8eBZEJ5\nAWKspX/mNunVLNaFg+7YUilJeojRFyQhygsQY+f62CYN560oyNKOmkKmjpCUKC9AjJ2d3Sa9ipEX\nOOzOLZU63B5U68D4tV8MeAjlBYixs71jKs/LUG5GXI9RAq7pzi0rJInRFyQdygsQY+f6xljvAleo\nLcnW5pX5eugFtkwjuVBegBib2SbNehe4w51bKrX/wpC6giGnowAxQ3kBYmhwbEqD49NcCwDXuOPi\n1BGjL0gelBcghi4u1uWMF7jE2vJcbajI04Ose0ESobwAMXRm7jbpMqaN4B53bq3U3vMD6hlh6gjJ\ngfICxNDpnlGlB3yqLc52Ogpw0V1bV8ha6WFGX5AkKC9ADJ3sHtGaslz5fVzICPdYV56rNWU5evAw\n5QXJgfICxNCp7lGtr2DKCO5ijNGrt67Qc+f61Tc66XQcYNkoL0CMjE2G1T40oXXllBe4z51bVyhq\npZ8e6XY6CrBslBcgRk71zCzWXVeR53AS4DdtrMzTqtIcPXiYLdPwPsoLECOnukckSespL3AhY4zu\n3FKpZ872a2Bsyuk4wLJQXoAYOcVOI7jcXVtXKBK1euQoC3fhbZQXIEZOsdMILrd5Zb5qi7PZdQTP\no7wAMXKye5TFunA1Y4zu3Fqpp073aWicqSN4F+UFiIG5nUZsk4bb3bVlhcJRq0eOsusI3kV5AWLg\n5OxiXXYawe22VReoqjBLD3HaLjyM8gLEwLHOmfLSsCLf4STA1RljdNfWSj15qlfDoWmn4wBLQnkB\nYuBY57DyMgKqLspyOgpwTXduXaHpiNWjTB3BoygvQAwc7RzWxhV5MoadRnC/HdWFWlGQya4jeBbl\nBVimaNTqeOcwU0bwDJ/P6M4tK/SLU70aYeoIHkR5AZapdXBcY1MRbaK8wEPu2lqpqXBUjx/vcToK\nsGiUF2CZjnUOSxLlBZ6yq7ZI5XkZ3HUET6K8AMt0tHNEPiNtqGSbNLxjZuqoUj8/0auxybDTcYBF\nobwAy3Ssc1irSnOUmeZ3OgqwKHdtXaHJcFQ/O8HUEbyF8gIs09GOYaaM4EmN9cUqzWXqCN5DeQGW\nYWh8Su1DE9q8ssDpKMCi+X1Gd2yp0M+O92p8iqkjeAflBViGQ21BSdL2asoLvOmuLSs0MR3REyd6\nnY4CLBjlBViGQ21DkqTNVZQXeNN1q4pVkpOuB7nrCB5CeQGW4VBbUKtLc1SQleZ0FGBJAn6fbt9c\nqceOdSs0HXE6DrAglBdgGQ61BbWVKSN43F1bKzU+FdETJ5k6gjdQXoAl6hkOqWs4pG3VhU5HAZbl\nhtUlKspO00PsOoJHUF6AJZpbrLuNkRd4XJrfp9sbKvXosR6mjuAJlBdgiQ61B+Uz0uaVnPEC77tz\na6VGJ8P65ak+p6MA10R5AZboUNuQ1pXnKTs94HQUYNluWlOqvMyAfnqUXUdwP8oLsATRqNWBC0Pa\nUcN6FySH9IBPL99QrseO9SgStU7HAa6K8gIswZneUQUnprW7vsjpKEDM7GmoUP/YlPZfGHQ6CnBV\nlBdgCZpbZn64N9ZRXpA8bt1QpjS/0SNHu52OAlwV5QVYgr3nB1SSk65VpTlORwFiJi8zTTeuKdVP\nj3TJWqaO4F6UF2AJ9rUManddkYwxTkcBYmpPQ4XO94/rdM+o01GAK6K8AIvUOzKplv5xNbLeBUlo\nz6YKSdJPmTqCi1FegEXa1zIgSdpdV+xwEiD2Kgsytb26gHUvcDXKC7BIzecHlR7waUsVh9MhOe1p\nqNDzrUPqHg45HQW4LMoLsEhPn+nXrtpCZQT8TkcB4mJPQ6Uk6dFjjL7AnSgvwCIMjE3paOewbl5T\n6nQUIG7WV+SqriSbqSO4FuUFWIRnzvRLkm5eR3lB8jLGaM+mCj19ul+jk2Gn4wC/gfICLMJTZ/qU\nlxHQtipukkZy29NQoalIVE+c6HU6CvAbKC/AIjx9uk/Xry5WwM9fHSS33XVFKs5J1yNc1AgX4icw\nsEBtg+M63z+um1jvghQQ8Pv0io3levx4j6YjUafjAC9CeQEW6OnTs+td1lJekBr2NFRoOBTWr84N\nOB0FeBHKC7BAjx3v1sqCTK2vyHU6CpAQL11XpoyAj11HcB3KC7AAoemInjzVp1dsKuc+I6SMrHS/\nbllXqkeOdnNRI1yF8gIswLNn+zU+FdErN1Y4HQVIqD0NFWofmtCxzhGnowAXUV6ABXj8eI+y0vy6\ncU2J01GAhHrFxgoZI6aO4CqUF+AarLV67FiPXrKuVJlpXAmA1FKWl6GdNYVcFQBXobwA13Csc0Tt\nQxO6bVO501EAR9zWUKHD7UF1BiecjgJIorwA1/Tjwx3y+4xeuYn1LkhNtzfM/Lf/6LEeh5MAM+Ja\nXowxdxhjThhjThtjPn6Zz7/UGLPfGBM2xrwpnlmApbDW6ocHO3Xz2lKV5mY4HQdwxJqyXK0qzWHd\nC1wjbuXFGOOX9DlJd0pqkHSvMabhkpddkPQuSV+PVw5gOZ5vHdKFgXG9dtsKp6MAjjHG6LZN5Xrm\nTJ9GQtNOxwHiOvJynaTT1tqz1topSfdLet38F1hrz1trD0ni7Gm40g8Pdird79OrtlQ6HQVw1J6G\nSk1HrH5xss/pKEBcy0uVpNZ5j9tmn1s0Y8wHjDHNxpjm3l5uOEViRKJWPzrUoVs3lCk/M83pOICj\ndtcVqSg7jYsa4QqeWLBrrf2itbbRWttYVlbmdBykiF+c7FXPyKR+a+eSOjeQVPw+o1dsrOCiRrhC\nPMtLu6SaeY+rZ58DPOFrz11QaW66bmOXESDp1xc17j3PRY1wVjzLy15J64wxq4wx6ZLukfRAHL8f\nEDOdwQk9frxbb26sUXrAEwOUQNzdsq5U6VzUCBeI209la21Y0n2SHpZ0TNK3rLVHjDGfNsbcLUnG\nmCZjTJukN0v6gjHmSLzyAIvxzb2tilrp3qZap6MArpGTEdBL1pbq0WNc1AhnBeL55tbaByU9eMlz\nn5r38V7NTCcBrjEVjur+X7XqlnWlqi3JdjoO4Cp7GmbWvZzoHtHGynyn4yBFMR4OXOIHz7erazik\n97xkldNRANd55caZazIeOcLUEZxDeQHmiUat/uWJM9pYmadb17OzDbhUeX6mdnBRIxxGeQHmeeRY\nt870jul3b10jY4zTcQBX2tNQoYNtQXUPh5yOghRFeQFmRaNW//DYKdUUZ+nVW7kOALiSPbMXNbLr\nCE6hvACzHjjYoSMdw/ronvUK+PmrAVzJuvJc1ZVkM3UEx/ATGpAUmo7orx4+oc0r8/W67ZyoC1zN\nzEWNFXr6dL9GJ8NOx0EKorwAkr701Hm1D03ok3dtks/HWhfgWvY0VGgqEtWTJ7lvDolHeUHKO983\npr9/9KT2NFTo5rWlTscBPKGxrkiF2Wmse4EjKC9IadZaffJ7h5Xu9+lPX7fF6TiAZwT8Pr1iQ7ke\nP9GjMBc1IsEoL0hp//XcBT19pl9/eOdGVRZkOh0H8JQ9DRUaGp9Wc8ug01GQYigvSFlHO4b1pz86\nqpeuL9PbruMOI2CxbllfpnQ/FzUi8SgvSEkjoWnd9/X9KsxK09++ZTuLdIElyM0I6Ka1JXrkKBc1\nIrEoL0g505GoPvi1/bowMK5/uHenSnMznI4EeNaehgpdGBjXqZ5Rp6MghVBekFKstfqj77+gJ0/1\n6c9fv1U3rC5xOhLgabdt4rRdJB7lBSnDWqvP/OS47t/bqvtevlZvaapxOhLgeRX5mdpeXaCfUl6Q\nQJQXpIRI1OoT3z2sLzxxVm+/vlYfu32905GApHH75kodbB1Sx9CE01GQIigvSHqT4Yg+9LX9un9v\nqz78irX6s9/awo3RQAzduaVSkvTg4U6HkyBVUF6Q1EYnw3rPf+7VT4506Y9e06CP3b6B4gLE2Oqy\nXDWsyNePKS9IEMoLktbA2JTe/q/P6tmzA/qbN2/Xe1+yyulIQNJ69bYVOnBhSG2D405HQQqgvCAp\ndQxN6M3/8rSOd43oC+/YrTfurnY6EpDUXr11hSTpocNdDidBKqC8IOmc7hnVmz7/tHqGJ/WV91yn\n2xoqnI4EJL360hxtqcrXj5g6QgJQXpBUDrUN6S1feEZTkai+8YEbdD3nuAAJ8+qtK3WwdUitA0wd\nIb4oL0gaT5/p071ffFZZaX59+3du0paqAqcjASnl4tTRC4y+IL4oL0gKjx3r1ru+tFdVRVn6zu/e\npFWlOU5HAlJObUm2tlYV6MeHKC+IL8oLPO/Hhzr121/dpw0VefrmB25UZUGm05GAlPXqbSt0sC2o\nlv4xp6MgiVFe4GnfO9CmD39jv3bUFOpr779eRTnpTkcCUtprt6+UMdL3DrQ7HQVJjPICz/r+gXZ9\n9FsHdcPqEn3lvdcpPzPN6UhAyqsqzNKNq0v03f3tstY6HQdJivICT3rkaLc+9u2DumFVif7jXU3K\nTg84HQnArDfsqtaFgXHtaxl0OgqSFOUFnvPU6T596Ov7taWqQP/6zkZlpvmdjgRgnju2VCozzafv\n7GfqCPFBeYGnHGob0vu/0qxVJTn68rublJvBiAvgNrkZAd2xuVI/PtSh0HTE6ThIQpQXeEb70ITe\n++VmFeek66vvvU6F2SzOBdzqDbuqNRwK6/HjPU5HQRKivMATRkLTeu9/7lVoKqIvvatJ5flshwbc\n7Oa1pSrPy9B39rU5HQVJiPIC1wtHovrwNw7oVM+o/vkdu7SuIs/pSACuwe8zesOuav38ZK+6giGn\n4yDJUF7gen/x0HH9/ESv/vR1W3TLujKn4wBYoHuvq1EkavXNva1OR0GSobzA1X50qEP//stzetdN\n9Xrb9bVOxwGwCHUlObplXanu33tB4UjU6ThIIpQXuNbpnhH9wX8f0u66In3yrk1OxwGwBG+/vk6d\nwZB+dqLX6ShIIpQXuNLoZFi//dV9yk7363Nv26X0AP+pAl70yk3lKs/L0Nefa3E6CpII/0eA61hr\n9YffOaRzfWP6h3t3ctEi4GFpfp/uaarRz0/26kL/uNNxkCQoL3Cd/3jqvH58qFN/cMdG3bSm1Ok4\nAJbpbdfXyW+M/uOpc05HQZKgvMBV9p4f0F88eEy3N1Tot1+62uk4AGKgsiBTd+9YqW81tyo4Pu10\nHCQBygtco2ckpA99bb+qi7L012/ZLmOM05EAxMj7b1mt8amIvvYr1r5g+SgvcIVwJKoPf/2AhkPT\n+vw7dis/M83pSABiaNOKfN2yrlT/+dR5TYa57wjLQ3mBK3z24RN67tyA/uINW7VpRb7TcQDEwftv\nWa2ekUl9/wC3TWN5KC9w3EOHO/XFX5zVO26o1et3VjsdB0Cc3LKuVFurCvSPj5/WVJhD67B0lBc4\n6nTPiP6fbx/UztpCfeo1m52OAyCOjDH66O3r1TY4oW/v48oALB3lBY6ZO4guK92vf347B9EBqeDW\n9WXaVVuof3r8tELTrH3B0vB/CzjCWqs/+O+DOt8/rn+8d5dWFGQ5HQlAAhhj9LHbN6gzGNI3fnXB\n6TjwKMoLHPGvT57Vg4e79Id3bNCNa0qcjgMggW5aU6IbV5foHx47xbkvWBLKCxLuZ8d79JmHjuuu\nrZV6/y0cRAekGmOM/ug1DQpOTOvvHj3pdBx4EOUFCXW8a1gf/sYBbVqRr79+MwfRAamqYWW+7r2u\nVl99tkUnukacjgOPobwgYXpGQnrvfzYrJ8Ovf39nk7LTA05HAuCgj92+QXmZAX3ye4cViVqn48BD\nKC9IiPGpsN7/lX0aGJvSv7+ziZuiAag4J13/67UN2tcyqC9xaSMWgfKCuJsMR/TbX92nw21D+vt7\ndmhLVYHTkQC4xG/tqNJtm8r1Vw+f0JneUafjwCMoL4iruTuLnjzVp7984za9anOl05EAuIgxRv/7\n9VuVne7Xh762XxNTnP2Ca6O8IG7Ckag+9u2D+unRbv3xaxv05sYapyMBcKGK/Ez93Vt36ET3iD71\ngxecjgMPoLwgLkLTEX3wa/v1g+c79Ad3bNC7bl7ldCQALnbrhnLd9/K1+va+Nv3bk2edjgOXY7sH\nYm44NK0P/td+/fJ0n/7k7s165031TkcC4AH/923rdbpnVH/242OqLMjUa7atdDoSXIrygpg61zem\n9315r1r6x/U3b96uN+7mlmgAC+P3Gf3dW3eob/Q5feSbzyvg8+mOLayTw29i2ggx8+jRbv3W557S\nwNiU/ut911NcACxaZppf//bOJm2tKtCHvr5f3zvQ5nQkuBDlBcs2NhnWJ757SO/7SrOqCrP0wH0v\n0Q2rua8IwNIUZKXpq++9XtfVF+sj3zyov/zJcQ6xw4swbYQls9bqoRe69L9/fEwdwQn9zsvW6CN7\n1ikj4Hc6GgCPy8kI6MvvuU5//MMj+vzPz+j5C0P67Ju2qaY42+locAHKCxbNWqtnzw7o7x89qefO\nDWhjZZ6+dc+NaqovdjoagCSSHvDpz1+/VTtqCvXpHx7Vq/7+F/rwK9bp3TfXKzONX5JSmbHWW0Nx\njY2Ntrm52ekYKSk0HdHDR7r0lWdatK9lUKW5Gfq9V67VvdfVKuBnBhJA/LQPTehT339Bjx3vUUV+\nhn73ZWv0ht3Vys9MczoalskYs89a27ior4lneTHG3CHp/0jyS/o3a+1nLvl8hqSvSNotqV/SW621\n56/2npSXxBqdDOvJk7167HiPfnqkS8OhsGqKs/T+W1brLY01/PYDIKGeO9uvzz58QvtaBpWd7tdr\ntq3QnVtW6MY1Jfw88ihXlRdjjF/SSUl7JLVJ2ivpXmvt0Xmv+aCkbdba3zHG3CPp9dbat17tfSkv\n8TM0PqWzfWM62zumw21DOtA6pKMdwwpHrQqy0vSKjeV68+5q3bC6RD6fcTougBR2qG1IX32mRQ8e\n7tTYVETZ6X7tqCnUarWimwAAB8NJREFUrtoiba8p1OqyHNUUZSs9wKiw27mtvNwo6Y+tta+affwJ\nSbLW/sW81zw8+5pnjDEBSV2SyuxVQi21vLQPTWhwbOpFz819Fyv7osczz829xr7o8Ytfd7Wvm/96\ne+XP6WKIK36fxebTvK+bnI4qFI5oYiqqiemIQrN/hiem1Tc2pb6RSfWPTal3ZFLBiemLb5GT7te2\n6kLtrC3Uy9aXaXddEVNDAFwnNB3RM2f79bPjPdrXMqjjXSMXdyb5fUZVhVkqzU1XSW6GSnLSVZyT\nrpyMgDLT/MpK8yszzaesNL/S/D75fUY+n5HPSH4z97GR3zdzB5PfGJkF/t5mtLAXLvT9Fmop71eS\nk6HKgszYBlmEpZSXeC7YrZLUOu9xm6Trr/Qaa23YGBOUVCKpL9Zh/uHRU/pmc+u1X5gCjJHyMgIq\nzctQaU6G1pXn6obVxaovydGq0pk/dSU58jO6AsDlMtP8evmGcr18Q7kkaXwqrP+/vbsLkau+wzj+\nfdztbiKtaTS2xMSEYMUXrArGi1IvSvXKRhFU7IWi1aAIQVF8KxQLoVJLLqIWgkQTKxpIqbYQJOqN\nFxURNWIalRBZMGokIiYVNTGJ7vy8OCft7OTsy6yz+e9v83xgycyZM2efPMzs/va87G7f/SU7P9vH\nzj37+GDPfvbsO8hHe/ez9aPP2bvvkC+77rD8oiX8YdnZpWN0JcXVRpJuBm4GWLRo0aS2cd0vFnPx\nWT85vL3/b/t/n2Pkv9VjGrFS+7fyw9vofH7780YuG3mjfSpXx/ZH5Dvisfb/lRrXad/GYH/1U8Xs\ngT5m9fcxa+A4BvqOG/E5zMxmiuMH+rlg8VwuWDy38fGI4NBwiwPftDjwzTBfHxpm/6Fhvm21GG4F\nrYBWRH07aLXq+xG0Jjj0TPSAxkRHqIkeIZnsSLb4pHyXn0/l8PIx0P5nhBfWy5rW2VUfNppDdeLu\nCBGxFlgL1WGjyYQ5Z8EczlkwZzJPNTOzGUISg/19DPb3MWe2r1TKaipPYngDOF3SEkkDwG+BTR3r\nbAKur29fBbw01vkuZmZmZlO256U+h2UF8CLVpdLrI+JdSSuBLRGxCVgHPCVpCNhLNeCYmZmZjWpK\nz3mJiM3A5o5l97fdPgBcPZUZzMzMbGbxta9mZmaWiocXMzMzS8XDi5mZmaXi4cXMzMxS8fBiZmZm\nqXh4MTMzs1Q8vJiZmVkqHl7MzMwsFQ8vZmZmloqHFzMzM0vFw4uZmZml4uHFzMzMUvHwYmZmZql4\neDEzM7NUPLyYmZlZKh5ezMzMLBUPL2ZmZpaKIqJ0hq5I+hLYUTrHDDIP+Kx0iBnCXfaW++wt99lb\n7rN3zoiIH3XzhP6pSjKFdkTE0tIhZgpJW9xnb7jL3nKfveU+e8t99o6kLd0+x4eNzMzMLBUPL2Zm\nZpZKxuFlbekAM4z77B132Vvus7fcZ2+5z97pust0J+yamZnZsS3jnhczMzM7hk374UVSn6S3JD1X\n318i6TVJQ5L+LmmgdMZMGvpcUXcZkuaVzpdNQ58bJO2Q9I6k9ZJ+UDpjFg1drpP0H0nbJD0j6Yel\nM2bS2Wfb8kckfVUqV1YNr8+/SXpf0tb64/zSGbNo6FKSHpD0nqTtkm4bbxvTfngBbge2t93/C7A6\nIn4G/Be4qUiqvDr7fAW4BPigTJz0OvvcAJwJ/ByYDSwvESqpzi7viIjzIuJc4ENgRZlYaXX2iaSl\nwNwycdI7ok/g7og4v/7YWiJUUp1d3gCcCpwZEWcBG8fbwLQeXiQtBH4DPF7fF/Br4Jl6lSeBK8qk\ny6ezT4CIeCsidhYLldgofW6OGvA6sLBUvkxG6fKL+jFRDYI+QW+CmvqU1AesAu4plSurpj5tckbp\n8lZgZUS0ACLi0/G2M62HF+Ahqjdaq75/EvB5RHxb398FLCgRLKnOPu37GbXP+nDRdcALRztUUo1d\nSnoC+IRqb9ZfC+TKqqnPFcCmiNhdJlJqo73XH6gPa66WNFggV0ZNXZ4GXCNpi6TnJZ0+3kam7fAi\naRnwaUS8WTrLTOA+e2sCfa4B/h0RLx/FWCmN1WVE/A44hWoX8zVHO1tGTX1KOgW4Gg+AXRvj9fl7\nqqH6QuBE4N6jnS2bMbocBA7Uv7H4MWD9eNuazn8e4JfA5ZIuBWYBJwAPAz+W1F/vfVkIfFwwYyZH\n9Cnp6Yi4tnCurEbtU9IfgZOBW4omzGPM12ZEDEvaSPXT2hMFc2bR9LXzXeAgMFQdheN4SUP1uYM2\ntvG+dh6s9xDeVSxhHo1dUh1F+We9zr+YwPs8xe95kfQr4K6IWCbpH8CzEbFR0qPAtohYUzZhLu19\nti3bCSyNCP+hsS51vD6XAzcCF0fE12WT5XO4S+Ay4LSIGKrPeVkFEBH+BtGFpvd6vfyriPDVW13q\neK/Pj4jd9etzNdWeg/vKJsyjo8sHgfciYn29fFVEXDjW86ftYaMx3AvcKWmI6hyYdYXzpCbpNkm7\nqPZibZPkE9K+n0eBnwKv1pdP3l86UFICnpT0NvA2MB9YWTaS2Qgb2l6f84A/Fc6T2YPAlXWff2YC\nV2mm2PNiZmZmdljGPS9mZmZ2DPPwYmZmZql4eDEzM7NUPLyYmZlZKh5ezMzMLBUPL2ZmZpaKhxcz\nMzNLxcOLmZmZpfId5z4eSpSmSm4AAAAASUVORK5CYII=\n",
            "text/plain": [
              "<Figure size 648x648 with 1 Axes>"
            ]
          },
          "metadata": {
            "tags": []
          }
        }
      ]
    },
    {
      "cell_type": "code",
      "metadata": {
        "id": "yudxlrFoPBtw",
        "outputId": "a45c40c7-f923-430f-a5ff-724ea56e616a",
        "colab": {
          "base_uri": "https://localhost:8080/",
          "height": 34
        }
      },
      "source": [
        "np.array(point_estimates).mean()"
      ],
      "execution_count": null,
      "outputs": [
        {
          "output_type": "execute_result",
          "data": {
            "text/plain": [
              "42.94352"
            ]
          },
          "metadata": {
            "tags": []
          },
          "execution_count": 20
        }
      ]
    },
    {
      "cell_type": "markdown",
      "metadata": {
        "id": "wnwPnlqnS9n-"
      },
      "source": [
        "**Si conocemos la desviación típica**"
      ]
    },
    {
      "cell_type": "code",
      "metadata": {
        "id": "IqFFnPcPP3Jj",
        "outputId": "32d75aad-5a43-46d4-9578-0b1f0b4a7594",
        "colab": {
          "base_uri": "https://localhost:8080/",
          "height": 34
        }
      },
      "source": [
        "np.random.seed(10)\n",
        "\n",
        "n = 1000\n",
        "alpha = 0.05\n",
        "\n",
        "sample = np.random.choice(population_ages, size = n)\n",
        "sample_mean = sample.mean()\n",
        "\n",
        "z_critical = stats.norm.ppf(q = 1-alpha/2)\n",
        "\n",
        "sigma = population_ages.std()## sigma de la población\n",
        "\n",
        "sample_error = z_critical * sigma / math.sqrt(n)\n",
        "\n",
        "ci = (sample_mean - sample_error, sample_mean + sample_error)\n",
        "ci"
      ],
      "execution_count": null,
      "outputs": [
        {
          "output_type": "execute_result",
          "data": {
            "text/plain": [
              "(42.23912299964774, 43.878877000352254)"
            ]
          },
          "metadata": {
            "tags": []
          },
          "execution_count": 21
        }
      ]
    },
    {
      "cell_type": "code",
      "metadata": {
        "id": "USs_XdPtRFbE"
      },
      "source": [
        "np.random.seed(10)\n",
        "\n",
        "n = 1000\n",
        "alpha = 0.05\n",
        "\n",
        "intervals = []\n",
        "sample_means = []\n",
        "\n",
        "z_critical = stats.norm.ppf(q = 1-alpha/2)\n",
        "\n",
        "sigma = population_ages.std()## sigma de la población\n",
        "\n",
        "sample_error = z_critical * sigma / math.sqrt(n)\n",
        "\n",
        "for sample in range(100):\n",
        "\n",
        "  sample = np.random.choice(population_ages, size = n)\n",
        "  sample_mean = sample.mean()\n",
        "  sample_means.append(sample_mean)\n",
        "\n",
        "  ci = (sample_mean - sample_error, sample_mean + sample_error)\n",
        "  intervals.append(ci)"
      ],
      "execution_count": null,
      "outputs": []
    },
    {
      "cell_type": "code",
      "metadata": {
        "id": "0sSpn89rRx8a",
        "outputId": "ba555650-d5ce-4b08-9d55-8edb5d49e317",
        "colab": {
          "base_uri": "https://localhost:8080/",
          "height": 609
        }
      },
      "source": [
        "plt.figure(figsize=(10,10))\n",
        "plt.errorbar(x = np.arange(0.1, 100, 1), y = sample_means, yerr=[(top-bottom)/2 for top, bottom in intervals], fmt='o')\n",
        "plt.hlines(xmin = 0, xmax = 100, y = population_ages.mean(), linewidth=2.0, color=\"red\")"
      ],
      "execution_count": null,
      "outputs": [
        {
          "output_type": "execute_result",
          "data": {
            "text/plain": [
              "<matplotlib.collections.LineCollection at 0x7f734788c9e8>"
            ]
          },
          "metadata": {
            "tags": []
          },
          "execution_count": 23
        },
        {
          "output_type": "display_data",
          "data": {
            "image/png": "iVBORw0KGgoAAAANSUhEUgAAAlkAAAI/CAYAAABEVcwAAAAABHNCSVQICAgIfAhkiAAAAAlwSFlz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\nB4QsAIAOCFkAAB34/wGho+k82cZS2gAAAABJRU5ErkJggg==\n",
            "text/plain": [
              "<Figure size 720x720 with 1 Axes>"
            ]
          },
          "metadata": {
            "tags": []
          }
        }
      ]
    },
    {
      "cell_type": "markdown",
      "metadata": {
        "id": "ixjOCYxoS3cB"
      },
      "source": [
        "**Si la desviación típica no es conocida...**\n"
      ]
    },
    {
      "cell_type": "code",
      "metadata": {
        "id": "VLgeLSSwS1oa",
        "outputId": "f24ee55c-b8a0-417d-fa91-7cab9a7851f5",
        "colab": {
          "base_uri": "https://localhost:8080/",
          "height": 34
        }
      },
      "source": [
        "np.random.seed(10)\n",
        "\n",
        "n = 25\n",
        "alpha = 0.05\n",
        "\n",
        "sample = np.random.choice(population_ages, size = n)\n",
        "sample_mean = sample.mean()\n",
        "\n",
        "t_critical = stats.t.ppf(q = 1-alpha/2, df = n-1)\n",
        "\n",
        "sample_sd = sample.std(ddof=1)## desviación estándar de la muestra\n",
        "## ddof = 1:  Se utiza para calcular la desviación tipica muestral ya que por default etsa la poblacional"
        "\n",
        "sample_error = t_critical * sample_sd / math.sqrt(n)\n",
        "\n",
        "ci = (sample_mean - sample_error, sample_mean + sample_error)\n",
        "ci"
      ],
      "execution_count": null,
      "outputs": [
        {
          "output_type": "execute_result",
          "data": {
            "text/plain": [
              "(38.66197902104285, 49.73802097895715)"
            ]
          },
          "metadata": {
            "tags": []
          },
          "execution_count": 24
        }
      ]
    },
    {
      "cell_type": "code",
      "metadata": {
        "id": "BdA4_zsxTtMx",
        "outputId": "eb908ba9-e055-46de-c7c6-57038a9ead0d",
        "colab": {
          "base_uri": "https://localhost:8080/",
          "height": 34
        }
      },
      "source": [
        "stats.t.ppf(q = 1-alpha, df = n-1) - stats.norm.ppf(1-alpha)"
      ],
      "execution_count": null,
      "outputs": [
        {
          "output_type": "execute_result",
          "data": {
            "text/plain": [
              "0.06602845295795534"
            ]
          },
          "metadata": {
            "tags": []
          },
          "execution_count": 25
        }
      ]
    },
    {
      "cell_type": "code",
      "metadata": {
        "id": "BQpn1PqIT2Af",
        "outputId": "d18a8377-c9c8-4885-9fa2-b8ad42cfcef9",
        "colab": {
          "base_uri": "https://localhost:8080/",
          "height": 34
        }
      },
      "source": [
        "stats.t.ppf(q = 1-alpha, df = 999) - stats.norm.ppf(1-alpha)"
      ],
      "execution_count": null,
      "outputs": [
        {
          "output_type": "execute_result",
          "data": {
            "text/plain": [
              "0.0015267184760627828"
            ]
          },
          "metadata": {
            "tags": []
          },
          "execution_count": 26
        }
      ]
    },
    {
      "cell_type": "code",
      "metadata": {
        "id": "-vZU2n6yT-iY",
        "outputId": "938a4103-b7b3-44e7-8f4a-8a674890154c",
        "colab": {
          "base_uri": "https://localhost:8080/",
          "height": 34
        }
      },
      "source": [
        "stats.t.interval(alpha = 0.95, df = 24, loc = sample_mean, scale = sample_sd/math.sqrt(n))"
      ],
      "execution_count": null,
      "outputs": [
        {
          "output_type": "execute_result",
          "data": {
            "text/plain": [
              "(38.66197902104285, 49.73802097895715)"
            ]
          },
          "metadata": {
            "tags": []
          },
          "execution_count": 31
        }
      ]
    },
    {
      "cell_type": "markdown",
      "metadata": {
        "id": "cxpk5Etsdcx1"
      },
      "source": [
        "**Intervalo para la proporción poblacional**"
      ]
    },
    {
      "cell_type": "code",
      "metadata": {
        "id": "dhoouJ5bUs7i",
        "outputId": "9eac3581-7d91-4b9b-a6ac-e19c3ba640f2",
        "colab": {
          "base_uri": "https://localhost:8080/",
          "height": 34
        }
      },
      "source": [
        "alpha = 0.05\n",
        "n = 1000\n",
        "z_critical = stats.norm.ppf(q=1-alpha/2)\n",
        "p_hat = race_sample.count(\"blanca\") / n\n",
        "\n",
        "sample_error = z_critical * math.sqrt((p_hat*(1-p_hat)/n))\n",
        "\n",
        "ci = (p_hat - sample_error, p_hat + sample_error)\n",
        "ci"
      ],
      "execution_count": null,
      "outputs": [
        {
          "output_type": "execute_result",
          "data": {
            "text/plain": [
              "(0.34893138003533003, 0.40906861996467)"
            ]
          },
          "metadata": {
            "tags": []
          },
          "execution_count": 37
        }
      ]
    },
    {
      "cell_type": "code",
      "metadata": {
        "id": "BmOc-Fy6VUoU",
        "outputId": "25161d22-48ee-45cb-8498-b9d74a353e02",
        "colab": {
          "base_uri": "https://localhost:8080/",
          "height": 34
        }
      },
      "source": [
        "stats.norm.interval(alpha = 0.95, loc = p_hat, scale = math.sqrt(p_hat*(1-p_hat)/n))"
      ],
      "execution_count": null,
      "outputs": [
        {
          "output_type": "execute_result",
          "data": {
            "text/plain": [
              "(0.34893138003533003, 0.40906861996467)"
            ]
          },
          "metadata": {
            "tags": []
          },
          "execution_count": 38
        }
      ]
    },
    {
      "cell_type": "markdown",
      "metadata": {
        "id": "NDHY31KOdgvE"
      },
      "source": [
        "**Cómo interpretar el intervalo de confianza**"
      ]
    },
    {
      "cell_type": "code",
      "metadata": {
        "id": "zFRnrkl-dllc"
      },
      "source": [
        "shape, scale = 2.0, 2.0 #mean = 4, std = 2*sqrt(2)\n",
        "s = np.random.gamma(shape, scale, 1000000)\n",
        "\n",
        "mu = shape*scale \n",
        "sigma = scale*np.sqrt(shape)"
      ],
      "execution_count": null,
      "outputs": []
    },
    {
      "cell_type": "code",
      "metadata": {
        "id": "sK0HNKDme-a0",
        "outputId": "3ec6b587-8f75-43ce-cc6f-bc96a982d77e",
        "colab": {
          "base_uri": "https://localhost:8080/",
          "height": 51
        }
      },
      "source": [
        "print(mu)\n",
        "print(sigma)"
      ],
      "execution_count": null,
      "outputs": [
        {
          "output_type": "stream",
          "text": [
            "4.0\n",
            "2.8284271247461903\n"
          ],
          "name": "stdout"
        }
      ]
    },
    {
      "cell_type": "code",
      "metadata": {
        "id": "KYgaW9P_eKg9",
        "outputId": "5ebb008b-1005-4156-fae0-11b689174451",
        "colab": {
          "base_uri": "https://localhost:8080/",
          "height": 592
        }
      },
      "source": [
        "meansample = []\n",
        "sample_size = 500\n",
        "for i in range(0,50000):\n",
        "  sample = random.choices(s, k=sample_size)\n",
        "  meansample.append(sum(sample)/len(sample))\n",
        "\n",
        "plt.figure(figsize=(20,10))\n",
        "plt.hist(meansample, 200, density=True, color=\"lightblue\")\n",
        "plt.show()"
      ],
      "execution_count": null,
      "outputs": [
        {
          "output_type": "display_data",
          "data": {
            "image/png": "iVBORw0KGgoAAAANSUhEUgAABIEAAAI/CAYAAADgJsn+AAAABHNCSVQICAgIfAhkiAAAAAlwSFlz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\nT1U/j4As4QAAAABJRU5ErkJggg==\n",
            "text/plain": [
              "<Figure size 1440x720 with 1 Axes>"
            ]
          },
          "metadata": {
            "tags": []
          }
        }
      ]
    },
    {
      "cell_type": "code",
      "metadata": {
        "id": "RmOdXchUfLf_",
        "outputId": "5158ca00-30d1-481e-fe7d-73237cc7ae90",
        "colab": {
          "base_uri": "https://localhost:8080/",
          "height": 592
        }
      },
      "source": [
        "plt.figure(figsize=(20,10))\n",
        "plt.hist(meansample, 200, density=True, color=\"lightblue\")\n",
        "plt.plot([mu,mu], [0, 3.5], 'k-', lw=4, color='green')\n",
        "plt.plot([mu-1.96*sigma/np.sqrt(sample_size), mu-1.96*sigma/np.sqrt(sample_size)], [0, 3.5], 'k-', lw=2, color=\"navy\")\n",
        "plt.plot([mu+1.96*sigma/np.sqrt(sample_size), mu+1.96*sigma/np.sqrt(sample_size)], [0, 3.5], 'k-', lw=2, color=\"navy\")\n",
        "plt.show()"
      ],
      "execution_count": null,
      "outputs": [
        {
          "output_type": "display_data",
          "data": {
            "image/png": "iVBORw0KGgoAAAANSUhEUgAABIEAAAI/CAYAAADgJsn+AAAABHNCSVQICAgIfAhkiAAAAAlwSFlz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\n",
            "text/plain": [
              "<Figure size 1440x720 with 1 Axes>"
            ]
          },
          "metadata": {
            "tags": []
          }
        }
      ]
    },
    {
      "cell_type": "code",
      "metadata": {
        "id": "ePtKCtKBgCl6",
        "outputId": "d0717c77-ec90-4b2f-ee91-98d2237423c3",
        "colab": {
          "base_uri": "https://localhost:8080/",
          "height": 592
        }
      },
      "source": [
        "sample_data = np.random.choice(s, size = sample_size)\n",
        "x_bar = sample_data.mean()\n",
        "ss = sample_data.std()\n",
        "\n",
        "plt.figure(figsize=(20,10))\n",
        "plt.hist(meansample, 200, density=True, color=\"lightblue\")\n",
        "plt.plot([mu,mu], [0, 3.5], 'k-', lw=4, color='green')\n",
        "plt.plot([mu-1.96*sigma/np.sqrt(sample_size), mu-1.96*sigma/np.sqrt(sample_size)], [0, 3.5], 'k-', lw=2, color=\"navy\")\n",
        "plt.plot([mu+1.96*sigma/np.sqrt(sample_size), mu+1.96*sigma/np.sqrt(sample_size)], [0, 3.5], 'k-', lw=2, color=\"navy\")\n",
        "plt.plot([x_bar, x_bar], [0,3.5], 'k-', lw=2, color=\"red\")\n",
        "plt.plot([x_bar-1.96*ss/np.sqrt(sample_size), x_bar-1.96*ss/np.sqrt(sample_size)], [0, 3.5], 'k-', lw=1, color=\"red\")\n",
        "plt.plot([x_bar+1.96*ss/np.sqrt(sample_size), x_bar+1.96*ss/np.sqrt(sample_size)], [0, 3.5], 'k-', lw=1, color=\"red\")\n",
        "plt.gca().add_patch(plt.Rectangle((x_bar-1.96*ss/np.sqrt(sample_size), 0), 2*(1.96*ss/np.sqrt(sample_size)), 3.5, fill=True, fc=(0.9, 0.1, 0.1, 0.15)))\n",
        "plt.show()"
      ],
      "execution_count": null,
      "outputs": [
        {
          "output_type": "display_data",
          "data": {
            "image/png": "iVBORw0KGgoAAAANSUhEUgAABIEAAAI/CAYAAADgJsn+AAAABHNCSVQICAgIfAhkiAAAAAlwSFlz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\ngAgEAAAAMAARCAAAAGAAIhAAAADAAP4/rSXw/4cm5mYAAAAASUVORK5CYII=\n",
            "text/plain": [
              "<Figure size 1440x720 with 1 Axes>"
            ]
          },
          "metadata": {
            "tags": []
          }
        }
      ]
    },
    {
      "cell_type": "code",
      "metadata": {
        "id": "JX6xBF3Di1az"
      },
      "source": [
        "interval_list = []\n",
        "z_critical = 1.96 #z_0.975\n",
        "sample_size = 5000\n",
        "c = 0\n",
        "error = z_critical*sigma/np.sqrt(sample_size)\n",
        "\n",
        "for i in range(0,100):\n",
        "  rs = random.choices(s, k=sample_size)\n",
        "  mean = np.mean(rs)\n",
        "  ub = mean + error\n",
        "  lb = mean - error\n",
        "  interval_list.append([lb, mean, ub])\n",
        "  if ub >= mu and lb <= mu:\n",
        "    c += 1  "
      ],
      "execution_count": null,
      "outputs": []
    },
    {
      "cell_type": "code",
      "metadata": {
        "id": "Pbj8UR89jpnE",
        "outputId": "61e41264-f9bd-41b9-f7fc-7cb07bf54e36",
        "colab": {
          "base_uri": "https://localhost:8080/",
          "height": 34
        }
      },
      "source": [
        "c"
      ],
      "execution_count": null,
      "outputs": [
        {
          "output_type": "execute_result",
          "data": {
            "text/plain": [
              "95"
            ]
          },
          "metadata": {
            "tags": []
          },
          "execution_count": 94
        }
      ]
    },
    {
      "cell_type": "code",
      "metadata": {
        "id": "pTrCmzAhjuSE",
        "outputId": "33ca8a33-15ff-4c7d-c14e-3937f57e0922",
        "colab": {
          "base_uri": "https://localhost:8080/",
          "height": 609
        }
      },
      "source": [
        "print(\"Número de intervalos de confianza que contienen el valor real de mu: \",c)\n",
        "plt.figure(figsize = (20, 10))\n",
        "plt.boxplot(interval_list)\n",
        "plt.plot([1,100], [mu, mu], 'k-', lw=2, color=\"red\")\n",
        "plt.show()"
      ],
      "execution_count": null,
      "outputs": [
        {
          "output_type": "stream",
          "text": [
            "Número de intervalos de confianza que contienen el valor real de mu:  95\n"
          ],
          "name": "stdout"
        },
        {
          "output_type": "display_data",
          "data": {
            "image/png": "iVBORw0KGgoAAAANSUhEUgAABIsAAAI/CAYAAAD3BFk3AAAABHNCSVQICAgIfAhkiAAAAAlwSFlz\nAAALEgAACxIB0t1+/AAAADh0RVh0U29mdHdhcmUAbWF0cGxvdGxpYiB2ZXJzaW9uMy4xLjEsIGh0\ndHA6Ly9tYXRwbG90bGliLm9yZy8QZhcZAAAgAElEQVR4nOzdfaxs610f9u/v3utgqnDNHnxbEV9f\nXyhQQWhrpydOWitATTGujUyDQHErp6ahspKmiRsHISwq+/oixEvSyqlSFRywbKAUqFGQaxURB/sm\nRcWGc7F9gzEvNjHYhso3nENcq8St7ad/7Jl15uy9ZvbM3jN71lrz+UijM3vm2es8e9aa9fJdz0u1\n1gIAAAAASXLPoSsAAAAAwHAIiwAAAADoCIsAAAAA6AiLAAAAAOgIiwAAAADoCIsAAAAA6Nx36Aqc\n9fSnP709/PDDh64GAAAAwGQ8/vjj/6K19sAmZQcXFj388MO5efPmoasBAAAAMBlV9bubltUNDQAA\nAICOsAgAAACAjrAIAAAAgI6wCAAAAICOsAgAAACAjrAIAAAAgI6wCAAAAICOsAgAAACAjrAIAAAA\ngI6wCAAAAICOsAgAAACAjrAIAAAAgI6wCAAAAICOsAgAAACAjrAIAAAAgM7GYVFV3VtV76mqt/W8\n96qq+vWqeqKqfqGqnrX03sur6rfnj5fvquIAAAAA7N42LYtemeQDK957T5IbrbV/J8lbkvxAklTV\nLMlrk/y5JM9N8tqqOrl8dQEAAADYp43Coqp6MMmLk/xw3/uttXe21v6f+Y/vSvLg/PnXJ3l7a+1W\na+12krcneeHVqgwAAADAvmzasuj1Sb4jyWc3KPttSX5u/vwZST6y9N5H568BAAAAMEAXhkVV9Q1J\nPt5ae3yDsi9LciPJ39mmElX1iqq6WVU3n3zyyW1+FQAAAIAd2qRl0fOSvKSqPpzkJ5M8v6p+/Gyh\nqvqPknxXkpe01j41f/ljSZ65VOzB+Wt3aa29obV2o7V244EHHtjyTwAAAABgVy4Mi1prr26tPdha\nezjJS5O8o7X2suUyVfWcJD+U06Do40tv/XySF1TVyXxg6xfMXwMAAABggO677C9W1aNJbrbW3prT\nbmd/Msn/WlVJ8nuttZe01m5V1Xcn+ZX5rz3aWrt11UoDAAAAsB/VWjt0He5y48aNdvPmzUNXAwAA\n2IP5zeUkydCuRQCmrKoeb63d2KTsprOhAQAAXNkiIBIUAQyXsAgAAACAjrAIAAAAgI6wCAAAAICO\nsAgAAACAjrAIAAAAgI6wCAAAAICOsAgAAACAjrAIAAAAgI6wCAAAAICOsAgAAACAjrAIAAAAgI6w\nCAAAAIDOfYeuAIxZVd31c2vtQDUBAACA3dCyCK5gEQ611gRFAAAATIKwCAAAAICOsAgAAACAjrAI\nAAAAgI6wCAAAAICOsAgAAACAjrAIAAAAgI6wCAAAAICOsAgAAACAjrAIAAAAgI6wCAAAAICOsAgA\nAACAjrAIAAAAgI6wCAAAAICOsAgAAACAjrAIAAAAgI6wCAAAAICOsAgAAACAjrAIAAAAgI6wCAAA\nAICOsAgAAACAjrAIAAAAgI6wCAAAAICOsAgAAACAjrAIAAAAgI6wCAAAAICOsAgAAACAjrAIAAAA\ngI6wCAAAAICOsAgAAACAjrAIAAAAgI6wCAAAAICOsAgAAACAjrAIAAAAgI6wCAAAAICOsAgAAACA\njrAIAAAAgI6wCAAAAIDOfYeuAAAAcEdV3fVza+1ANQHgWAmLAABgQFprqSohEQyYUJep0w0NAADY\nu9lslqrqLrIXz2ez2YFrBttbhEOtNUERk6RlEQAAsHe3b9/uvag+20IDgMMTFgHXTrNdAACA4dIN\nDbh2y811BUUAAADDomURACxZbvkmzAQA4BhpWQQAS7R6AwDg2AmLAAAAAOhsHBZV1b1V9Z6qelvP\ne19VVb9aVZ+uqm8+895nquq988dbd1FpAAAAAPZjmzGLXpnkA0nu73nv95J8a5Jv73nvj1trz96+\nagAAAABct41aFlXVg0lenOSH+95vrX24tfZEks/usG4AAAAAXLNNu6G9Psl35HJh0FOr6mZVvauq\n/pNL/D4AANCjqu56AMAuXBgWVdU3JPl4a+3xS/4fz2qt3UjynyV5fVX9mz3/xyvmgdLNJ5988pL/\nDQAAHJflGRzN4gjArmzSsuh5SV5SVR9O8pNJnl9VP77pf9Ba+9j8399J8liS5/SUeUNr7UZr7cYD\nDzyw6aIBAAAA2LELw6LW2qtbaw+21h5O8tIk72itvWyThVfVSVV9zvz503MaPP36FeoLAAAAwB5t\nOmbROVX1aFW9ZP78z1bVR5N8S5Ifqqr3z4t9eZKbVfW+JO9M8n2tNWER124f/flns1m3rMVyZ7PZ\nTpYNAFw/4/8AwKkaWt/mGzdutJs3bx66GkxQVe20L3/f8nb9f0ydz4uhsm3CcRvCPmCbOgyhvptY\nVc+x1B/Osu0yNlX1+HxM6Qvdt+/KAAAAAIzR2ZamxxIQCos2dKwbCAAAAByr1tpRtiK79JhFx2Z5\nOtJj20gAAACA4yEsAgAAAKAjLAIAAACgIywCAAAAoGOAawAAAOBSTAY1TcIiAAAAGKHloOZQIc2x\nzhY2dbqhAQAAwAiZsZt90bIIAADgmum6AwyZlkUAAADXrLWmVQgwWMIiAAAAADrCIgAAAAA6wiIA\nAAAAOga4BgBgL4YwpTMwfAb7huHRsggAgL0weC+wCYN9w/AIiwAAAADo6IYGAADA0dMdDu7QsggA\nAICjt9wVTlDEsdOyCAC4MgMZAwBMh5ZFAMCVGZgUAGA6hEUAAAAAdIRFAAAAAHSERQAAAAB0hEUA\nAAAAdMyGdmDLs8ckBgYFAAAADkvLogNrrZlBBgAAABgMYREAAAAAHWERAAAAAB1hEQAAAAAdA1wD\nAMARMLEKAJvSsggAAI7A8qQqgiIA1hEWAQAAANARFgEAAADQERYBAAAA0BEWAQAAANARFgEAwADM\nZrNUVTdr2eL5bDY7cM0AODb3HboCAGzGlMcA03b79u3effvZ/T9X55gKsJ6WRQAHtLhrvHwneZXl\nqY4vOqndZrkwFbZ7YFPLx1NBEdtatAJMtABkurQsAjigxQlqVe30ZHVfy4Uhs93DsLXX3p888rT+\n12FE+loBuknB1AiLgGs1m81y+/bt7ueqysnJSW7dunXAWgEA+1av+8TKbnbtkeuvDwCrCYuAa+VO\nDAAAwLAZswgAAACAjrAIAGLKagAAWNANDQBiymoAAFjQsggAAACAjrAIAAAAgI5uaAAwMGe7vvV1\njwMAgH0RFgHAwLTWUlVCIi5N4AgAXIVuaAAAE9Na6wIiQdE0mcERgH3SsggAAEbGDI4A7JOWRQAA\nAAB0hEVMmibaAAAAsB3d0Ji0fTbRbq+9P3nkaedfAwBGZzab5fbt293PVZWTk5PcunXrgLUCgMMQ\nFsEl1es+cS6Iqqq0Rw5THwDg8vpuMBn/B4BjpRsaSe50z1rusgUAAADH6NiHNBEWbaBvI5naBrI8\nva4pdgGA6+bGFQBDsmhxevax3GV5yo66G9rZE5FVIYlmyQAA+9VaO+3O7aYVABzcUYdFTkoAAADg\nuCw3/pAH9NMNDQAAADgay8Ow0E9YBAAAAGxtMb5vcnwDQE/dxmFRVd1bVe+pqrf1vPdVVfWrVfXp\nqvrmM++9vKp+e/54+S4qDQAAABxW3yDQxzIA9NRt07LolUk+sOK930vyrUl+YvnFqpoleW2SP5fk\nuUleW1Un21cTAAAASEzrzv5tFBZV1YNJXpzkh/veb619uLX2RJLPnnnr65O8vbV2q7V2O8nbk7zw\nCvUFAACAo3bs07qzf5u2LHp9ku/I+TDoIs9I8pGlnz86fw1gVBZ3a5bv4AAAXMaQWoU4xwH6XBgW\nVdU3JPl4a+3xfVWiql5RVTer6uaTTz65r/8G4NKWZ0wwawIAcBVDahXiHIfrJJwcj01aFj0vyUuq\n6sNJfjLJ86vqxzdc/seSPHPp5wfnr92ltfaG1tqN1tqNBx54YMNFA7ArDtoAACzsK9RZDiWFk8N2\nYVjUWnt1a+3B1trDSV6a5B2ttZdtuPyfT/KCqjqZD2z9gvlrAAyIgzYAAAtanLHNbGh3qapHq+ol\n8+d/tqo+muRbkvxQVb0/SVprt5J8d5JfmT8enb8GAAAAwADdt03h1tpjSR6bP3/N0uu/ktMuZn2/\n88Ykb7x0DQEAGJXZbHbX2CuLLgwnJye5dct9Q+AO+wsYpq3CIuDyzvb11ZwTgKlaDN57lnHRgLPs\nL2CYLt0NDdiOwdwAAAAYA2ERAIyYKWgB4Opms1l3HF0cU2ez2YFrBYejGxoAjNiipWJVabUIAJfU\n1x3OTRiOmZZFAMClLe7EuhsLAOyS1tOHpWURAHBpBiYFAPZB6+nDEhYBAByImTIBgCESFgEAHEhr\nzR1TRk/oCTA9xiwCAAAurbXWBUSCIoBp0LIIAAAABkBLPYZCy6IDMoPMMBl1H6bFdxoAGAst9RgK\nLYsOyAwyw2T8CJgWM2kAwG5o9QLHQ1gEDJqTEgCAYXADBo6HsGgPpn5xO/W/j2FxUgIAAHC9hEV7\nMPWLW920AI7D8s0B+3wAYMict+yWAa4BgF4G2ITpWEyskphUBZgm5y27pWURAABMXN/EKiZVAWAV\nYREAwBrG6gOGQBcb4DrphgYAsEZrTdN24ODsh4DrJCwCAAAAoCMsAgAAAKBjzCKAEZjNZrl9+3b3\nc1Xl5OQkt27dOmCtANil9tr7k0ee1v86AFwjYRHACJjFBtYTqDJ0mwxOXK/7RO97VZX2yL5qdnyW\n9xeL9WJ/AXA3YRHAgezr4rZvuYkTYcZp05nIBKoMXWvtNPQ58sGJ+76XJycn11oH+wuuqq8VoBaA\nTI2wCOBA9nWy2rfcXS0brpsLbJiO5e+x7zVj1tcKUAtApkZYBFwrd2IAAACGTVgEXCt3YsZv025B\nAHBsHCOBqbjn0BUAYFwWJ76tNSfBALBk+djoGAmMmZZFABBTVgMAwIKwCDham0xjzPEwZTUAAJzS\nDQ04WpqJAwAAnCcsAgAAAKAjLAKAAZnNZl0XyapKVWU2mx24VgAAHBNhEXu1uNBZPABY7/bt291s\nOovH7du3D10tRmQROC6HjusCR8dqAOAsA1yzV4uxYKrKuDAAcA0WgeOydSGQY/U4mcERgH0SFgHA\nNTh7se6iHLgKMzgCsE+6oQHANViefU9QBADAkGlZxKRpog0AAByS1sWMkbCISdt3E+2zO/6Tk5Or\nLxQAuHZ9N5jcXAJ2wdhwjJGwCC5pnzt9dx8A4Hr13WAy/g8Ax0pYRGazWTct8yKkODk5ya1btw5Z\nraPm7gPAeC0H/vbhADBOxz6kibBoA1NvlrztFLsAwGqtNWH/FpZvWiVuXAEwDMc+6+TRhkXbtKbR\nLBkAYD/6blolblwBwCHdc+gKHMrixGT5sXxXCwCAYaqqux4AsInZbHbXsWPxfDab7WT5Uzo+HW3L\nIgAAxklXPwAuY9+tWad0fBIWAQAAAFub+vi+x0xYBAAAAGzN+L7TJSwCAACAETn2ad3ZP2ERwBqm\ndGads/3bp9A/HQAYvmOf1p39ExYBrGFKZ9aZ0iCGAFyfobQKWb4p5oYYsExYBAAAcI2G0iqk76aY\nG2LsS1+LfeHkcN1z6AoAcDiz2SxV1Z0YLp7PZrMD1wwAgOu2z3PDRTi5/FgOjxgWLYsAjphudgAA\nLDg3ZEFYBADATg1lPJbEQPRcnW0IOEbCIgAAdmoo47EkBqLn6hbbju1oP4YULgN3CIsYreW7PEM/\ncBvMjWPlbiwAsM6QwmXgDmERozWmO4VmmuBYjel7CgAAnBIWATAIWiFtT6tFYOrG1JKccevrDqcr\nHMdMWATAIGiFtL0htFo01gSwT44NXJe+7nC6wnHMhEUAwKVdZqwJrcgAgHX6Wk8n0YL6GgmLAIBr\npaUAALBOX+vpxLiv1+meTQtW1b1V9Z6qelvPe59TVT9VVR+sqndX1cPz1x+uqj+uqvfOHz+4u6oD\nAIzTbDZLVXUnvYvns9nswDWDU4ttcnk7BeB4bNOy6JVJPpCkbxCCb0tyu7X2JVX10iTfn+Qvzd/7\nUGvt2VerJnAIuooA7Ic7pgzdYvu8qBWgriIA07RRy6KqejDJi5P88Ioi35jkzfPnb0nyteVsB0Zv\ncXLYWhMUAQDnLILPs4/lAAmA8dm0G9rrk3xHks+ueP8ZST6SJK21Tyf5l0m+YP7eF827r/2TqvoL\nV6ksAGxDVx8AYCyctzAkF3ZDq6pvSPLx1trjVfU1Wy7/D5I81Fr7w6r695L8bFX96dbaJ878H69I\n8ookeeihh7b8L8Zr39MN60K0Hc2oYXp09QEAxmLf5y2uD9nGJmMWPS/JS6rqRUmemuT+qvrx1trL\nlsp8LMkzk3y0qu5L8rQkf9hOt75PJck8bPpQki9LcnP5P2itvSHJG5Lkxo0bR7PFXma64W2YbWY7\nLioBAKBf341VN1XHxfUh27iwG1pr7dWttQdbaw8neWmSd5wJipLkrUlePn/+zfMyraoeqKp7k6Sq\nvjjJlyb5nZ3Vnmu3aBqZaBbJ/mmKCwAwDH3jUxmbCqZr0zGLzqmqR6vqJfMffyTJF1TVB5O8Ksl3\nzl//qiRPVNV7czrw9V9trU06eu67uJ3Sha2DBNfJoJlwGIJaAIDjtkk3tE5r7bEkj82fv2bp9X+V\n5Ft6yv9Mkp+5Ug1Hpq8rk25Mm9GHFmAYdMuF6ekbK3NX42QCHJKxZ/djq7AI9mlxYaIfLQCc56YK\nV9E3VuauxskEOCQ3ufZDWATshIsYgP0yMCkAcF0uPWYRwLLFxctiXCGAKTB+E3Bo9kPAIWhZBACw\ngqbtwKHZDwGHoGURAAAAAB0tiwAAAAAmYFdjyQqLAEbAlMcAx6Gva9HJyckBagLAGO1qlnFhEcAI\nmPKYYzSbzXL79u0kdy6gT05OcuvWrXNlBaoM1fJ2nKzflpf382a+2x/7C4CLCYsADmRfJ6t9y93V\nsuE69Q3qumpAV4EqQ2Vw4vOWZ/U6RCBmf8EunP0OawHI1AiLAA5kXyerfcvd1bIB4Kq0mGLsdtXN\nB4bMbGjAtauqux7uxIzDbDbr1llyZz3OZrMD1wwAGJqz53vAuGhZBFwr4zGMl64UALDaNuNTHQOt\nb2DchEUAO7ar6Sq5fmYhAuCy3FQBpkRYBBOwfBIimDi81pq7aCOk1RsAAJya3JhF+sZyjBYXtS5u\nN2PsHQAAgNUm17LIHX3gIpqJA1yObrYAcBwmFxYBALAfBqwFxkbIDZcjLAKAAWmvvT955GnnXwMA\nkmw3XqeeJwzV0INMYRF70zd96LFOHQqwqXrdJ86dLFRV2iOHqQ/js03g6FgNjJEAiCkYemtdYRF7\n0zcujDFhAGC/tgkcHavHrW9dnZycHKAmAEzN5GZDA4AhMfsesA+tte6x/LNWYQDsgpZFALBHZt8D\nAGBstCxi8hZ38Zcfu2qifbalAAAwXvs6XwCOV18LY62LGQMti5i05bv5+xg4bIgDkcExGPrsEcD4\n7PucAThOxoZjrIRFmKZ5YPpmpklidhpYMvTZIwAAYMyERZimeWCMbwIwTsJ+AJiWY551Uli0obMb\nybFsIADAZoT9l9PXwrl7HQAO5Ni7Jx9tWLRN16tj30gAAPalr4VzopUzABzS0YZFul4BAIzPcnc/\nXf0A2MY+W7NO7fh0tGERABwbs8jd4bMYLzMLAXBZ+2zNOrXjk7AIAI6EWeTu8FkAwG4Y33eahEUA\nAADA1tx8mS5hEQAAwIToanscjnlad/ZPWASwhimd6bM8gGEyjUEMAZiO1pqWHhNnxm72TVgEsIYp\nnenTN4BhMu5BDAG4XkNoFdJ3U8wNMfbF9jYuwiIAAIBrNJRWIX03xdwQO277bFVvexsXYRHAEdPN\nDgCABa3qWRAWAZNhMMftOSEAAADOuufQFQDYldZaF3wIigAOq6rOPa57PJbZbNbdSFjUYTabXWsd\nGLfFNrS8HdmGgGOgZRFcA4O5AXBMhjIeS99g9AaiZxu2oesxhMG+gbsJixidMU5ZbTA3jtHyd3UM\n31MA4PoNJVwG7iYsYnRMWQ3j4G4sAACMk7AIgIPTCulydHEFpmqMLckZv7M3tXSF45gJiwA4OK2Q\nLmcoXVyNNQHsmpbkXLfF9qYrHJwSFgEAl7bNWBNaCgAAm+hrPd29zrUQFgEA10JLgTucBAPAan2t\npxOTBF0nYdHILJ9Qax7Jvrj7D7BfToIZsr7zAOcAAMdFWDQyrTX9aNk7d/8B4HhtM46cVnIA0yQs\nAgAALkUrOYBpEhbBnDtjMD2+1wDAWDhvYUhGERZNeZyefUw3bLyZyzmWO2NT/j7BWcfyvQYAxm9f\n5y2uD8fvbG5wHddxowiLpjpOzzbTDW/DeDOsM6bvk7srAADD0Hde5pxsHFwfjt9i/V3nddwowiKG\nw0GC66RVCADAMPSdlzkng+kSFu3Y1MMUBwmA6dOqDwDguAmLdkyYcjn60QIMh1Z9ME1nu5xcdZxM\ngCFwk2s/hEUMgn6047Yc9gn6AHbPfparOsR4FwDXwU2u/RAWAVfWF/YJ+oApGMrdSvtZAOA6CYsA\nAFZwtxI4tKGE1sBxERYBAAAMlNAaOIR7Dl0BAAAAAIZDWAQAAFuqqrseAHBos9nsruPS4vlsNtt6\nWRuHRVV1b1W9p6re1vPe51TVT1XVB6vq3VX18NJ7r56//ptV9fVb1xCAJOcvTEx5DHA4rbWua9Cu\nZxc7e5IPAJtYTIhx9rGYUXUb24xZ9MokH0jSN5LatyW53Vr7kqp6aZLvT/KXquorkrw0yZ9O8qeS\n/OOq+rLW2me2rinAEVu+ENlk2uO+iwvhEmPTN6jrugFdz273tnmG4DKDE5vafv/sL7iq5VA38b1l\nejYKi6rqwSQvTvI9SV7VU+Qbkzwyf/6WJH+/Tr8135jkJ1trn0ryz6vqg0mem+SXrlhvgEnYx8nq\ntsESDFXfoK6rBnS13TNUBicensX6sK/gKmw7TN2mLYten+Q7knzeivefkeQjSdJa+3RV/cskXzB/\n/V1L5T46f207VWnzfzexSdm+Mpf9vetY7lXrsO3rQyi7q2Vc9f1t1s02y97FZ7HN+7tY1i7W0z7r\nsY/l7nN99J5i3L492P3FUPYt25QZ4zbkc1v/+pCPqWPcLsb2Ga96fUp/32Uc8jx5X3/fUD63IZzD\n7f1cZETfp6GVvezyhrwNDXl728UyhvL3bVtm07Ln3r9CqHlhWFRV35Dk4621x6vqay79P63/P16R\n5BVJ8tBDD+3jvwDgqtZ0mcjrPnF99QCAIXKcBCZkk5ZFz0vykqp6UZKnJrm/qn68tfaypTIfS/LM\nJB+tqvuSPC3JHy69vvDg/LW7tNbekOQNSXLjxo3z0Vdr2aaZ6KbjefQ2bb/E713Hcq9ah21fH0LZ\nXS3jqu/voonyvj6Ly9bzkNvQNoawrq9jfWxb/lDreij7lm3KjHEb8rmtf33Ix9Qxbhdj+4y3rfMY\n/77LOOR58r7+viGcD60qc93ncPv8LKa8b7mOspdd3pC3oSFvb7tYxlD+vm3L7LKem7pwNrTW2qtb\naw+21h7O6WDV72h3B0VJ8tYkL58//+Z5mTZ//aV1OlvaFyX50iS/vJOaAwzQYrrK5HRnXXW5qSo5\nnOX1BwAAx2ib2dDuUlWPJrnZWntrkh9J8mN1OoD1rZyGSmmtvb+qfjrJryf5dJK/3syEBjszm83u\nmgZxcXF7cnKSW7duHapag3eZmWk2tZiucpnQYVx2eTcRAADGaKuwqLX2WJLH5s9fs/T6v0ryLSt+\n53tyOovaXrlo5hj1BROJcOIiZqYBAABY7cJuaGOxuGg++1gOkAAAuJxFN1tdbQFg+iYTFgEAsD9u\nzAFjIuCGqxEWAcDALE5oF4+Tk5NDVwkADm6bAEjAzZD1bctDCzIvPcA1XKRvEOFdDCAMMGWL8bR2\nPXUvx+Xs2HWrAkfHamBMjNfJVIxhUhxhEXvTN4iwAYSBY7PP2fegz/Kx96LQ0bF6/JbvSidmdARg\nN4RFALBHZt8D9kk4BMA+GLMIAAAAgI6WRRwFTbQBgIssjxdh3DBgF4wNx1gJizgKTvZgOmaz2V0z\nmSxmC7t169YBawVMgfMFYNeMDcdYCYtIsvmsKeyfwXBhvTHMHsFxsv8GgOk51l4qwiJM0zwwBsMF\nGCf7bwCYnmO9RhYWbUgfdgCA/ehrHaiVMwAczlGHRdt0vRIOAQDs3vI5lhtyAIzV1AYzP9qwSNcr\nAIDxmdrJOADXa1+tWac2mPnRhkUAcEz6ZpFLcpQzyfksxm1qJ+MAXB+tWTcnLAKAI9A3i1xynDPJ\n+SwAYHeOdbawqRMWAQAAwAgtBzWHCmmEQ9N0z6ErAAAAwNXNZrNU1V0BQlVlNpsduGbsS2ute8Au\naVkEcAFTOnNW3wC73esAcCC62QK7IiwCWMMgePTpG2A3McguAJtbDnAOeY5xNkhyQ4x9sr2Nh7AI\nAADgmg3hBtSiDm6IsWxfrerdhB0XYRHAkdPNDgCARKDDHcIiYBJms1lu377d/bwIQE5OTnLr1q1D\nVWvwnBAAU9Y3vpixxQDgYsIiYBIM6AgwPIee0rlvfDFji7ENgSNwrIRFcE0M5gbAsdFakbETOF6P\noQz2DdwhLGJ0xjhlta4+HCN3YwGATTg3huERFjE6pqyGcXA3FgAAxklYBMDBaYV0ebq4AlM0xpbk\njN/yOGuJFk8cN2ERAAenFdLlDKmL66EHMgamRUtyDsHxa1j6JqpxU+z6CIsAgCvb5ARbSwEAYBND\nuiF2rIRFAMC10FLgbu6YMlS6BgMgLBqJ2WyW27dvdz8vTjBPTk5y69atQ1WLiXL3H2C/3DFlyHQN\nBkBYNBK3b99eeTcWds3dfwBgU1rJAUyPsAgAALgUreQApumeQ1dgndlslqq6a4aVqspsNjtwzXbn\n7N/HYS3Wx/LDnTEYN99rAGAsnLcwFINuWXQMXa/2cffFeDOXM/U7Y8a94hhN/XsNAEzHvs5bXB+O\n26Gu4wYdFnE5xpuhz1jDV3l+dvIAACAASURBVOMgAAAMw9nzMudk4+D6cNwOdR0nLGJrDhJcF61C\nAACGwXkZHBdh0R5MOUxZHBQcIACmTas+AIDjJSzaMYn75ehHCzAcjmUwTWcnVfHdBqbCTa7dExYx\nCPrRjltf2CfoA9gd+1l2QTgETJGbXPshLAKurC/sE/QBUzGEu5X2s3DchrAfAo6LsAgAYAV3K4FD\nsx8CDuGeQ1cAAAAAgOEQFgEAAADQ0Q0NAAC2MJvNcvv27e7nxXgyJycnuXXr1qGqBcCR2+Us48Ii\ngJFYHtzSmAUAh3P79u2Vs7gCwKHscpZxYRHASGwTDgmWmIqzF9/rZv+x3TNUZrIansU6WfxrfwFw\nN2ERwAHt6+LWSS9TsNiON/1u2O4ZIjNZDZP1ALCeAa4BDqi1dtcDANjObDZLVd3VWqiqMpvNDlwz\ngPHSsgiAjelKAcDQDGkMKcfJU32D7F5mgF3gcIRFAGxEVwoAWM1x8o6+QXYvM8AucDjCIhixXU6N\nyG64kwYAAIydsAhGbJdTIx6bfTUTdycNAAAYu8mERVpYAJvSTBxge861AOB4TCYs0sICAGB/nGsB\nwPGYTFgEAAAAidaQDNsYxjkVFrFXZ8eFOcapQwG2tdh3Lv7VVZJtLR9/dbcFpmKbAEhrSIZsDOOc\nCovYG+PCAFyO/SVXtc025MYOMBYCILg+wiIA2LN9zb4HV+XGDgDQR1gEAHvkYhwAgLG556ICVfXU\nqvrlqnpfVb2/ql7XU+ZZVfULVfVEVT1WVQ8uvfeZqnrv/PHWXf8BAAAAAOzOJi2LPpXk+a21T1bV\nU5L8YlX9XGvtXUtl/m6SH22tvbmqnp/ke5P85fl7f9xae/Zuqw0AAADDZ2w4xujCsKidtpf/5PzH\np8wfZ9vQf0WSV82fvzPJz+6qggCwbAxTjQIAJLqjM14bjVlUVfcmeTzJlyT5H1tr7z5T5H1JvinJ\n30vyF5N8XlV9QWvtD5M8tapuJvl0ku9rrQmSBsg0zcNiMFxYbQxTjXK87L8BgCnYKCxqrX0mybOr\n6vOT/MOq+srW2q8tFfn2JH+/qr41yT9N8rEkn5m/96zW2seq6ouTvKOq/llr7UPLy6+qVyR5RZI8\n9NBDV/qDuBzh0HC4+wAwTvbfV+PGFQAMx4UDXC9rrf1RTruZvfDM67/fWvum1tpzknzXUtm01j42\n//d3kjyW5Dk9y31Da+1Ga+3GAw88cJm/AwCAEWut3fUAAA5nk9nQHpi3KEpVfW6Sr0vyG2fKPL2q\nFst6dZI3zl8/qarPWZRJ8rwkv7676l/N8h2svmbjAAAMz+LcbfHQ1Q+AbZxtzbrL5U7l+LRJN7Qv\nTPLm+bhF9yT56dba26rq0SQ3W2tvTfI1Sb63qlpOu6H99fnvfnmSH6qqz85/9/taa4MJi9y1AoDj\n0zdIevc6g7c4f9PVD4DL2sfxY2rHp01mQ3si/V3HXrP0/C1J3tJT5v9M8m9fsY4AwBUJSO7oGyQ9\nMVA6AMDCRgNcAwDjJiABAGBTWw1wDQAAAMC0aVkEAAAwAbocA7siLALYwNkZE6YwaB1X0zd7xphn\nvABg/HQ5BnZFWASwAeEQy5a3h6nMeAHAcXJDjOu0fLPNOdSwCYsAAACOlIt1+uwrRLS9jYewCJgE\nffSvZvmEwEEcAOC4OR9EWARMgj76V+OEAJiqs+OLGVsMAC4mLAIAYJIWQbhWk1yFwBE4RsIiRmmM\nsxAZzI1j5AQbgDEzoQFwrIRFjM5YD9pjqSfsijv6AAAwTvccugIAwOVV1bkZSwAA4Cq0LAJgEHRZ\nuxyttoCpGuOwAwBTISwC4OB0WTseLv6ATYx12AFgd4z5eljCIgDgWrj4AwA25TzhsIRFAAAHcna8\nKSfGDIWuwQDHTVg0Eu219yePPK3/ddgDXUUA9k84xBBt2wpQVxGA6REWjUS97hO9B96qSnvk+uvD\ntOkqAgBsynkCwPTcc+gKAAAAADAcg25ZpOvV5elCdHnGj4Bp0T0CABgL5y2cdahcZNBhka5Xl6ML\n0dVM9fMSvnKspvqdBgCmZ1/nLRoTjNehcpFBh0XA7ow1fHV3BQBgGJyXjZPGBFyGsGgPpr4T1U2L\n62T7AgAYBudlcDyERXsw9Z3o1P8+AE4t3xyw7wcAhsx5y24JixgM/WgBhsWJFgAwFs5bdktYxCDo\nRzt+Z8M+QR/AbtnPAgDXRVgEXNki3BP0AVM0hLEI7WcBXWyA6yQsAgBYw0UZMAT2RcB1uufQFQAA\nAABgOLQsAgCALbTX3p888rT+1wHggHY1cZSwCAAAtlCv+0Rvl6CqSnvk+usDAMluJ47SDQ0AAACA\njrAIABis5dl/+ppVw1gsb8sAMHS6oQEAg2X2H6bCtrw/xpAC2D1hEQAAMFrGkALYPWERAFs525XC\n3XIAOLXczfCqg8uO3dkul5eZjQk4HGERAFs55hNfAFjHMfLULmdkAg5DWAQj1zdQpjs3h+VOGgAA\nMGaTCotcNHNs3LW5muXuVLv67BbLsT4AAICxmkxY5KIZ2Jb9BMB23JgDgOMwmbAIAID9cWMOAI6H\nsAgAAIDJ0RqSIRv6OKfCIvbK9KEAMGyO1cCYbBoAaQ3JkI1h+xQWsVdD3OgBgDscq4GxGMMFNkzF\nPYeuAAAcg+XZ9/ruigIAwFBoWQQA18DdTwAAxkLLIgAAANiT5VbFWhczFloWAQAAwJ5oXcwYCYtg\ngMxMA+sNfapRAAAYM2ERDJBwCFYzEwpDt9zVwPYJAIyRsAgAYIcERADA2BngGgAAAICOsAgAgFFZ\n7upnZiEAhmJKxyfd0ADgSPSdtBzr4OA+i3HT1Q+AIZrS8UlYBABHwMDgd/gsAADW0w0NAAAAgI6w\nCAAAAICObmgAAAATYUw2YBeERQBwScszXiTTGtQQgPExJhuwK8IiALgkJ+EAAEyRMYsAAAAA6FwY\nFlXVU6vql6vqfVX1/qp6XU+ZZ1XVL1TVE1X1WFU9uPTey6vqt+ePl+/6DwBYqKpzD330AQAAtrNJ\nN7RPJXl+a+2TVfWUJL9YVT/XWnvXUpm/m+RHW2tvrqrnJ/neJH+5qmZJXpvkRpKW5PGqemtr7faO\n/w7gyOmjD0AfY4sBwPYubFnUTn1y/uNT5o+zR9mvSPKO+fN3JvnG+fOvT/L21tqteUD09iQvvHKt\nAQBgA621ux6wrUVr5cVzgGOw0ZhFVXVvVb03ycdzGv68+0yR9yX5pvnzv5jk86rqC5I8I8lHlsp9\ndP4aXJmDNgzf8vfUdxWAMRI4Asdoo7CotfaZ1tqzkzyY5LlV9ZVninx7kq+uqvck+eokH0vymU0r\nUVWvqKqbVXXzySef3PTXOHIO2jB8TrABAGB8tpoNrbX2RzntZvbCM6//fmvtm1prz0nyXUtlP5bk\nmUtFH5y/dna5b2it3Wit3XjggQe2/BMAAAAA2JVNZkN7oKo+f/78c5N8XZLfOFPm6VW1WNark7xx\n/vznk7ygqk6q6iTJC+avAcBddFkD4CzDDgAcxiYti74wyTur6okkv5LTMYveVlWPVtVL5mW+Jslv\nVtVvJfk3knxPkrTWbiX57vnv/UqSR+evAcBddFk7HoJBYFOOCwCHcd9FBVprTyR5Ts/rr1l6/pYk\nb1nx+2/MnZZGAMCRc9EHADBsW41ZBAAATJ/p4gGO24UtixiOvgP1ycnJAWrCsTh7kqg1AAAcB8d8\ngOMmLBqJ5QN2VTmAcy1sZwAAAMdHNzQAAAAAOoNvWaTr1eXpQgQAAEDi+nDMDpGLDDos0vXqanxe\nnCV8BQCA4+T6cJwOlYsMOiwCdkf4CgAAwCaMWQQAAABAR1jEYFTVuX60AAAAwPXSDY3B0C0KAFYz\nMCkAcF2ERcBOuIgB2C/7VQDgugiLgJ1wEQMAADANxiwCAAAAoCMsAgAAAKCjGxoAAGypb+bWk5OT\nA9QEAO5YPj5V1aWHCxEWAQDAFpZPvK9yIg4Au7arY5JuaAAAAAB0hEUAAAAAdHRDAwAARs0YUgC7\nJSwCAABGyxhSALunGxoAAAA7VVVdi6++ll/AsGlZBAAAwE5p4QXjpmURTIC7NsOyvD6sEwAAYGwm\n17Lo7EWzRJtjYDsfFusDAAAYs8mFRS7SAAD2Y7m1pIGEAWC6JhcWAQCwH8IhADgOxiwCAABgNLYZ\nr9NYkgzV0GcM1LIIAACA0dimlaMWkQzV0LdNLYsAAAAA6AiLAAAAAOgIiwAAAADoCIsAAAAA6AiL\nABidoc8eAQAAY2Y2NABGZ+izRwAAwJhpWQQAAABAR1gEAAAAQEdYBAAAAEBHWAQAAABAR1gEAEfC\nLHJ3+CwAAFYzGxoAHAmzyN3hswAAWE3LIgAAAAA6wiIAAAAAOsIiAACACVkek824bMBlGLMIAABg\nQozLBlyVlkUAAAAAdIRFAAAAAHSERcBkLPfL1z8fAADgcoxZBEyG/vkAAABXp2URAAAAAB1hEQAA\nAAAdYREAAAAAHWERAAAAAB1hEQAAAAAdYREAAAAAHWERAAAAAB1hEQAAAAAdYdHIVNVd/wIAAADs\n0n2HrgDbaa0dugoAAADAhGlZBAAAAEBnFGGRrlcAAADAMaqqa89FRtENTdcr2J3lnYzvFgAAwLAd\n4rrtwpZFVfXUqvrlqnpfVb2/ql7XU+ahqnpnVb2nqp6oqhfNX3+4qv64qt47f/zgPv4IYHOtte4B\nAAAAZ23SsuhTSZ7fWvtkVT0lyS9W1c+11t61VOa/TfLTrbX/qaq+Isn/nuTh+Xsfaq09e6e1BgAA\nAGAvLgyL2mnzg0/Of3zK/HG2SUJLcv/8+dOS/P6uKggAAADA9dlogOuqureq3pvk40ne3lp795ki\njyR5WVV9NKetiv7G0ntfNO+e9k+q6i/sotIAAAAA7MdGYVFr7TPzrmQPJnluVX3lmSL/aZI3tdYe\nTPKiJD9WVfck+YMkD7XWnpPkVUl+oqruP/O7qapXVNXNqrr55JNPXuXvAQAAAOAKNgqLFlprf5Tk\nnUleeOatb0vy0/Myv5TkqUme3lr7VGvtD+evP57kQ0m+rGe5b2it3Wit3XjggQe2/ysAAAAA2IlN\nZkN7oKo+f/78c5N8XZLfOFPs95J87bzMl+c0LHpy/rv3zl//4iRfmuR3dld9AAAAAHZpk9nQvjDJ\nm+ehzz05nfXsbVX1aJKbrbW3JvnbSf5BVf2tnA52/a2ttVZVX5Xk0ar6/5J8Nslfba3d2s+fAgAA\nAMBV1elkZ8Nx48aNdvPmzUNXAwAAVqqqu34e2jn1saoq6wJghap6vLV2Y5Oym7QsAgAAlggkAJiy\nrQa4BgAAAGDahEUAAAAAdIRFAADA6C3Gkaqqc2NKAbAdYxYBAACjZxwpgN3RsggAAACAjrAIAAAA\ngI6wCAAAAICOsAgAAACAjrAIAAAAgI6wCAAAAICOsAgAAACAjrAIAAAAgI6wCAAAAICOsAgAAACA\njrAIAAAAgI6wCAAAAICOsAgAAACAjrAIAAAAgI6wCAAAAICOsAgAAACAjrAIAAAAgI6wCAAAAICO\nsAgAAACAjrAIAAAAgI6wCAAAAICOsAgAAACAjrAIAAAAgE611g5dh7tU1ZNJfrfnracn+RcbLmZf\nZYdSj7GVHUo9hlB2KPUYQtmh1GMIZYdSj7GVHUo9hlB2KPUYQtmh1GMIZYdSj7GVHUo9hlB2KPUY\nQtmh1GMIZYdSj7GVHUo9hlB2KPUYQtnrrsezWmsPbPTbrbVRPJLcPHTZodRjbGWHUo8hlB1KPYZQ\ndij1GELZodRjbGWHUo8hlB1KPYZQdij1GELZodRjbGWHUo8hlB1KPYZQdij1GELZodRjbGWHUo8h\nlB1KPYZQdkj1OPvQDQ0AAACAjrAIAAAAgM6YwqI3DKDsUOoxtrJDqccQyg6lHkMoO5R6DKHsUOox\ntrJDqccQyg6lHkMoO5R6DKHsUOoxtrJDqccQyg6lHkMoO5R6DKHsUOoxtrJDqccQyg6lHkMoO6R6\n3GVwA1wDAAAAcDhjalkEAAAAwL5dZXTs63gkeWOSjyf5tQ3KPjPJO5P8epL3J3nlmrJPTfLLSd43\nL/u6DZZ/b5L3JHnbBeU+nOSfJXlvLhiBPMnnJ3lLkt9I8oEk//6asv/WfJmLxyeS/Ddryv+t+d/2\na0n+lyRPXVP2lfNy7z+7zL51kGSW5O1Jfnv+78mast8yX+5nk9zYYNl/Z/55PJHkHyb5/DVlv3te\n7r1J/lGSP3XRdpPkbydpSZ6+ZrmPJPnY0mf9onXLTfI35nV+f5IfWLPcn1pa5oeTvPeCz+LZSd61\n2JaSPHdN2X83yS/Nt73/Lcn9674XfetwTdlz63BN2XPrb03Zc+tvVdm+9bdmuefW37rlrlh/q5Z9\nbh2uKXtu/a0pe279ZcV+KskXJXl3kg/O6/Mn1pT9r+fllrf5VWX/5yS/mdN9wRuTPOWC8j8yf+2J\nnO7H/uSqskuf9f+Q5JMXLPdNSf750uf87DVlK8n3JPmtnO5D/+aasv/H0jJ/P8nPrin7tUl+dV72\nF5N8yQV1fv68/K8leXOS+/qOG33rbt1xpm/9rSnbu/5WlD237i461i2vuzXLPbfu1pQ9t+4uWPa5\n9bembO/6W1F21br7cM4cy7P62NdXdt2xr6/8qmNfX9lVx75zZdcc+/qW+0j6j329y03/vrNvueuO\nfX3lVx37+squOvadO79as/76yvauvxVlV627vrK9625V+TXrr2/Zq9Zf73JXrL++5fauvxVlV627\nvrKr1l3v+W7f+ltTtu+8ZVXZvvOWVWX7zlvWnp/n7vOWVcs9t+7WLXfFulu17L7zllVl+85bVpVd\ntf7OXX9kxbFvRdne496KsuuOe33le499fWVXHftWLPdN6Tn2rSjbe+xbUbb3uLei7Krzlr6yvce9\neflz14RZve/sK7tq39lXdtW+s6/squPeumvYs/vNvuU+kv79Zu9y0/PdW7PsVfvOvrKr9p19ZZe/\ne7+X5Mlsdp1eOd2ePzj/LP/M8ufV97hymLPvR5KvSvJnko3Coi9c/NFJPi+nX8KvWFG2cmcH8ZSc\n7sD+/AXLf1WSn8hmYdHTL6rvvOybk/yX8+d/YvEl2eD37k3yfyV51or3n5HTndbnzn/+6STfuqLs\nV843wn8tyX1J/nHuPrE+tw6S/ECS75w//84k37+m7Jfn9EDzWM6fMPeVf0HunKx//wXLvn/p+d9M\n8oPrtpucXqj/fJLfzZ0dR99yH0ny7Ztsj0n+w/ln9jnzn//1TbbdJP9dktdcsOx/lOQ/nj9/UZLH\n1pT9lSRfPX/+V5J897rvRd86XFP23DpcU/bc+ltT9tz6W1W2b/2tWe659bem7Kr1d+H+ZLEO1yz7\n3PpbU/bc+suK/VROv88vnb/+g0n+2pqyz0nycJb2S2vKvmj+XuX0hOKvXVB+ef399zndjlbuW5Pc\nSPJjuRMWrVrum5J885nPelXZ/yLJjya5Z7H+1tVhaXk/k+Q/X7Pc30ry5fPX/6skb1pTj/8gyUeS\nfNn89UeTfNv8+V3Hjb51d6ZeZ8ufW39ryvauvxVlz627VWX71t2a5Z5bd2vKnlt368r3rb81y+5d\nf2fL5rSF9ap11/eZrzr29ZVdd+zrK7/q2NdXdtWx71zZvn3nmuU+kv5jX1/ZVfvO3jqc3W9esOxV\nx76+squOfefOr9asv76yvetvRdlV666vbO+6W1V+zfrrW/aq9ddXdtX6W3teurz+Vix31brrK9u7\n7s78f9357qr1t6Lsyu9fT9ne9bei7Mr1d7bsqnW3Yrm9625F2d51t64eq75/PcvuXX8ryvadt/Re\nf6T/vGVV2b7zllVlV523rCrfd96y8pop589bVi33TTl/3rKqbN95y4XXbblz3rJqueeOeyvK/pWs\nPu71XhOm/5phVdm+a4ZVZfuuGVaV7btmWHkNm/PXDKuW+0jOXzOsKrtqv7n2Wnr5u7dm2X3XDKvK\nLn/3vi/JP8hm1+kvSvJzOf2+/Pkk7161z1k8Bt8NrbX2T5Pc2rDsH7TWfnX+/P/OaVr7jBVlW2vt\nk/MfnzJ/tFXLrqoHk7w4yQ9vXvv1quppOb3o/5F5nf7f1tofbfjrX5vkQ621311T5r4kn1tV9+V0\nI/v9FeX+//bONmauoorjvwG0gSq0IpQGJAWxYhQ1ESMkgBUU+WAob6KEtyjEiBI1ihiCVjCCJBDA\nGAsqQlTwA0ZTSXgrlPASo0Ur0tbWIpVGii0EgyA2orXjh5ndZ3bmnDN3ox8IOf/kSXf3+fU8M/e/\nZ865d++9+xbSm2VbjHE78ABw0uiXigeLSYWf/O8JGhtjXB9j3CD9YYVfnscB6Qjrfgb7QvF0NtlD\n431zDXAhhddTvsck9jzgihjjS5l5phc3hBCAU0mFzYodSWeYAOxB9lBhFwIP5sf3ACdnVsuLxkON\nlTw02MY/g2386+TxhH9T5rzGav6ZsUsPDbbxz2Ab/4x16mjSJ2Iw453IxhgfiTFuqraFxt6RfxdJ\nZ8/s1+FfKLbFrjNoy4YQdiZ9gnRhbxwIMtjzgK/FGHdk7ple3BDC7nkbLjNYLfck/j/Av2KMj+XX\n7wFOrutG3k6Nd8W4mjoj+Wewon8K23insZJ3GqtJYRvvhsQu/TNY0T+B3RPBO2MqYu2TJK2blqS1\n02DF2meoqX3/B4lrpyWp9ikS/VPUrJ1Gf9X4p7GSfwbbeGewonednnDCv2n6R4Nt/OvFLf0z2MY7\ngxX7lkplv9vLvzE7IP9Ktpd7JdvLvbo/t3JvSC8vsUNyr4lt5F/J9nKvZDX/6v2PLei1r9lX0eqe\nwop1z+DF2iexWu2TWGGsFqvVPjVuXfcUVvOuZv+BXve0fUIp90RWyT2NlXJPY6Xcs/Zh69wz93eH\njBc998zYVe5prOSfxpa5921gUTV+ba1cDPwwp8yvgDkhhPnKNgBewfcsCiEsIB2ZXmkwO4cQfke6\nnOeeGKPKAteS3nA7Bvz5CCwPIawKIXzC4A4gnTZ2UwjhkRDCDSGE2QPiA3wUo9mKMT4FXEU6NW0L\n8HyMcbmCrwWODCHsGULYjZlLdizNizFuyY+3AvMGjntafZx0BFRVCOGyEMKTwOmkI7Yatxh4Ksb4\n6MC/fX4IYXUI4cYQwlyDW0jafitDCA+EEN49IPaRwNMxxj92uM8BV+b5XQVcZLC/Jy0CkE4BbTys\n8sL0cEgODWAb/2rW8q9ke/4JY1D9q9iuf8r8RA8r1vSvYkX/6nUK2Aj8rSium8kHsaZZ0yw2hPAq\n4Ezgrh4fQriJ9P45GPiWwZ4P3Fa853rjuCz7d00IYZbBvhH4SAjhNyGEO0MIbxqwLU4AVhRNo8Se\nC9wRQtict8UV2phJDeouIYRDM3JK9q+uG3uieJc1TZ1RWcE/kZW8U1jRO2MMjXcKK3rXmx+Vfwqr\n+VezzyJ7B3It19bNoXV/pB5frp0iq6ydDWusndoYpLVTYrW105qbtG5KvLZ2Sqy0dmr9leTfNL3Y\nEHbkncoq3om84p81jto/jZX8682v9E9jJe80ttu3MNnv9npPszceyEp95wSr+Newvb5FGIPVd5bs\nkL5Tmp/We5Zsr+8s2cY/af8DWIVQ+6bZV+mxdd2z+Lr2GWxT+zrjmKh9BtvUvgHbYlz3DLape4of\nt6LXPW2fUMq9afYfh7Cj3FNZIfdEVsk9awx17mmslnu9+ZW5p7FS7mlsnXv1AR9trdyXdFbZSHUf\n2ip2Tj16OfyQTkXsXoZW8K8hLUwnDeTnkO4h8jbl9x8ClubHi+hfhrZvnDmt8FHgKIU7FNgOvCc/\n/ybCKbjC/3s1qcGdZzBzgfuAvUiffC8DzjD4c/I2exC4DrjW8oC06Je/f67nF/qpwBp/Men61TDk\nvUBKqksllnQkfSWwR36+icnroOv5zSOdarsT6briGw12LWlHK5Cu7X5iNGZjbtcBX+htC9J1pSfn\nx6cC9xrswaRTGFcBXwX+auVFx0MxhyQPDVbyT81Nwb8xO8C/em6WfzWr+teZX+OhENvyr2Z7/o3W\nqSOAx4vX31C/xxDWtHqbddjvUa0BHX5nYCnwMYU9inT9/OhU4xetuKSiF4BZpE9E6lPmS/bFkQ/5\nvfLQgPHeOfLFiPszZtbmLwI3dPjDSfcWeBj4OvAnqrpBOg1a9I5OnWHydPweO/ZvADv2TmJJ9+No\nvNPiSt4ZrOjdgDGP/TNiN/4ZbO3d6J4CTS1HWTcltmDup103LX5i7bTYeu1UxiyunQorrp0KK66d\nnblJ66YUW1w7FbZZO1H6K8k/jZX8G8COveuxgncSf6XknzG/xj+DlfzrzW/snxG38c5ge3Vvot+V\n/NPYTv5prNS3qD03bd8yZun3LfXcrL6lZnt9izY/Kf/q2FbfUrNS7on7Hwi1T2MLbrzNBrATfcsA\nvqx9EnsWcu3T5ifVPo1tat+A8ZZ1T4sr1T2NFete/r/NPiF67VP3H2kv4bXYuu719kvLtbNmv4te\n96S5aXVPYq19Pmt+E7mnxNbqnsTWufccA/bTSX3dEcXrKxD2zSf+r/XLl8sPUxwsyolwN/D5Kf/G\nEpRrhYFvkI68bSIdndsG3Dww7iVG3H2ATcXzI4HbB8RcDCzvMB8Gvl88P4vcJA+IfznwKcsD0s3k\n5ufH84ENPb+Y4mAR6drbXwK7DX0vAPtXYxyzwCGkswA25Z/tpKPs+wyIW8+9fn4X8L7i+UZgL2Nu\nuwBPky7P6v2t55lZhALwwsBtsRB42MoLzUOJ1TzUWMk/K27tX81a/g2Iu0CLO8A/bX6Nh0ps0b8B\nY57wr3h9CakBeJaZBuZw4G6FvaB4vgnlPiIlSyo6y8jX0vf44rWjkO8tsyTH3Fr4t4OicezEXWTE\nvYB0k8EDim38fGd+ryc1tOIN/4ttvLF6b66bYlscS7q8sK4bt2je0akzTDY7Klv714tbeqewz0ne\nDYy7yIh7s+ZdZ34TfkpmbgAABpVJREFU/ins7ZJ/A8d8LHCr4PMlpPebWvtqtnh+P0YzVvIotU+L\nXcxPqrmXAF/BqH2duAuMuBdgrJ3K3NTaJ8RWa19nzAtJOz9ifyX5p7GSfxZbe9eLW3un8CsU/w4Z\nEHsBacdG2xaSf2815jfhnxG38W7gtmjqHlW/K/mnsVb+SWztXy+ulHslS7/vtOIu0OLm52buKfMT\n80+IbfWd1phHuSftf1yHUPsUdmnxfBMzdU9lEfqWXuz82qj2SewTyLVvSNxFRtylCLWvM7+67mnb\nWKp7Q8Yr1r38u8tJ9z8aUvsm9h8xal/J0q970n6pVvcuJ90Qekjd6+7vCtuhW/eE+Zm1r4g9pO5J\nY15Iuil2dz8d+A5wmsRpP6+oy9BCCIF0PfT6GOPVHXavEMKc/HhX4AOk5G0UY7woxrhfjHEB6fTL\n+2KMZyhxZ4cQXjt6TErAtUrcrcCTIYQ355eOISV2T6fRP832z8BhIYTd8nY5hrTzIiqEsHf+d3/S\nUe4fd+LfBpydH58N/HzAuAcphHAc6TKB42OM2zpsednCYnQP18QY944xLsg+bibdZHirErc8ne9E\nFA+zlpFueEYIYSEzn7xoej/whxjjZoMZ6S/Ae/Pjo0l3tRdVeLgT8GXSjd+svGg8nDKHRFbyz2Ab\n/yRW84+0+EpxG/+MuYn+dbbFhIcG2/hnbIvGP2WdWk86m+WU/F9H3g1e0zQ2hHAu8EFSIdnR4TeE\nEA4q5n98jiGxq2KM+xT+bYsxHmSMY34R9wSSf9r8xv7lbf1YZ1ucQjr49E9jbuuBPfL7geI1a9uN\n/JsFfAn4tFA3Tpe8g+nqjMZK/kkscKbknRJ3ruSdMYbGO2NujXcDtsWEf8r8Fkv+GWOuvbveqOXS\nujm47o8YiVfWTo2V1k6J/bWydv5diSutndr8pLVzm7EtmtpnxJbWTm1bNGun0V81/k3Ti2ms5J3B\nin2Lwv9W6V3WKLEb/4z5Sf6tM7bFhH9G3MY7Y1uIfUuhut+1es8hvbHISv4ZrNV3jtkBfWcd1+o7\n67n1+k5pW2i9Z81afWc9Zsk/af9jHXLtm2ZfRWS1vsXgm9qnsFdLtc+I29Q+Y35S7bO2xUTdM7ax\n1Ldo423qnuBruU8o5p7CipJYLfcUVsw9gf2BlntKXDH3lLmpuWdsC6n2SayYe8qY69y7pdrc2lp5\nG3BWSDqM9CFdfYuBSVlHkl4OP6RFaQvw72z2OQZ7BOl69tHX6o2//k5g30766tzV+U2xZOB4FmFc\nhgYcSDo1evS1yhd34r2T9PV4q0lvwLkdfjbp6PIeA8Z6KSmR1pLu5D/LYB8iLTSPAsf0PCDde2NF\nfiPfC7zOYE/Mj18i7dzf3Yn9OOl6ypGH1xvsT/P8VpO+tnNfja3mtImZTyukuD8ifR3halJizTfY\nV5M+JV9L+hrKo60xkL6d4JND3uuk9/Sq7MtK4F0G+1lSwXmMdH+O0dFpMS8kDw228dBgG/8MtvFP\nYyX/jLiNfwar+aeOo/bQiN34Z7CNfyjrFGmdeThv65+QTnvW2M9k77aTCtENBrud9CnJaFyj1xue\ndLruL/J2XksqVLtrsSv/XtTi5tfvK+LeTLpkT2PnkD7NXkP6ZOod1hhIn3Qd16sFpPf8muzd/cCB\nHf5KUmO2gfarWxcxc8lT451VZyT/DFb0r2Y174bUOuRLCMsxNN4ZbONdr+bW/hmxRf8UtvEOpZYj\nr5saK9Y+g5fWTo2V1s5u/8HM2qnFldZOjW3WTmsMCLXPiC2tnRqr1b6mv5L8M1jNP4nV+haJFfsW\njTd6Fym21rtIrFb7xDEo/klxtb5FYkXvMt/0u4Z/Eqv5J7GafxKr9Z1mf155J8XVvJNY0TtrHIp/\nUmzNP4nVcq/Z/0CpfQor1j2FVeuewou1T2K12qfEFWufwoq1TxsDQt1T4mp9i8RaPUuzT4ieexKr\n5Z7EarknsVruqfuwQu5JcbXck1gr98RxIOeeFFvLPYktc28dw/fTA+mG2BvznM1L0GKM46R2uVwu\nl8vlcrlcLpfL5XK5XlmXoblcLpfL5XK5XC6Xy+Vyuf43+cEil8vlcrlcLpfL5XK5XC7XWH6wyOVy\nuVwul8vlcrlcLpfLNZYfLHK5XC6Xy+VyuVwul8vlco3lB4tcLpfL5XK5XC6Xy+VyuVxj+cEil8vl\ncrlcLpfL5XK5XC7XWH6wyOVyuVwul8vlcrlcLpfLNZYfLHK5XC6Xy+VyuVwul8vlco31X3Z+qjUT\nlIDtAAAAAElFTkSuQmCC\n",
            "text/plain": [
              "<Figure size 1440x720 with 1 Axes>"
            ]
          },
          "metadata": {
            "tags": []
          }
        }
      ]
    }
  ]
}
